{
  "nbformat": 4,
  "nbformat_minor": 0,
  "metadata": {
    "colab": {
      "name": "11809946 Forest Cover Type ",
      "provenance": [],
      "collapsed_sections": [],
      "mount_file_id": "1mJkXPKtJAFAfS7Z_nFQWT7mgsoQwON5X",
      "authorship_tag": "ABX9TyPC6oYKD4Zav3ni6nR6Py5+",
      "include_colab_link": true
    },
    "kernelspec": {
      "display_name": "Python 3",
      "name": "python3"
    },
    "language_info": {
      "name": "python"
    }
  },
  "cells": [
    {
      "cell_type": "markdown",
      "metadata": {
        "id": "view-in-github",
        "colab_type": "text"
      },
      "source": [
        "<a href=\"https://colab.research.google.com/github/praveen535/ML-PROJECTS/blob/main/Forest_Cover_Type.ipynb\" target=\"_parent\"><img src=\"https://colab.research.google.com/assets/colab-badge.svg\" alt=\"Open In Colab\"/></a>"
      ]
    },
    {
      "cell_type": "markdown",
      "metadata": {
        "id": "w8jGoqIhEdf_"
      },
      "source": [
        "# **Data Overview**"
      ]
    },
    {
      "cell_type": "markdown",
      "metadata": {
        "id": "Hvz87xkHC66W"
      },
      "source": [
        "**Elevation** - Elevation in meters\n",
        "\n",
        "**Aspect** - Aspect in degrees azimuth\n",
        "\n",
        "**Slope** - Slope in degrees\n",
        "\n",
        "**Horizontal_Distance_To_Hydrology ** -** Horz Dist to nearest surface water features**\n",
        "\n",
        "**Vertical_Distance_To_Hydrology** - Vert Dist to nearest surface water features\n",
        "\n",
        "**Horizontal_Distance_To_Roadways** - Horz Dist to nearest roadway\n",
        "\n",
        "**Hillshade_9am (0 to 255 index)** - Hillshade index at 9am, summer solstice\n",
        "\n",
        "**Hillshade_Noon (0 to 255 index)** - Hillshade index at noon, summer solstice\n",
        "\n",
        "**Hillshade_3pm (0 to 255 index)** - Hillshade index at 3pm, summer solstice\n",
        "\n",
        "**Horizontal_Distance_To_Fire_Points** - Horz Dist to nearest wildfire ignition points\n",
        "\n",
        "**Wilderness_Area (4 binary columns, 0 = absence or 1 = presence)** - Wilderness area designation\n",
        "\n",
        "**Soil_Type (40 binary columns, 0 = absence or 1 = presence)** - Soil Type designation\n",
        "\n",
        "**Cover_Type (7 types, integers 1 to 7)** - Forest Cover Type designation"
      ]
    },
    {
      "cell_type": "markdown",
      "metadata": {
        "id": "T0FP4ITZEqgF"
      },
      "source": [
        "# **Importing Library**"
      ]
    },
    {
      "cell_type": "code",
      "metadata": {
        "id": "P-Qjn8iCHsLs"
      },
      "source": [
        "import numpy as np\n",
        "import pandas as pd\n",
        "import warnings\n",
        "import matplotlib.pyplot as plt\n",
        "import seaborn as sns\n",
        "\n",
        "from sklearn.decomposition import PCA\n",
        "from sklearn.preprocessing import normalize\n",
        "from sklearn.manifold import TSNE\n",
        "\n",
        "from sklearn.preprocessing import StandardScaler\n",
        "from sklearn.metrics import confusion_matrix\n",
        "from sklearn.metrics import accuracy_score,log_loss\n",
        "from sklearn.metrics import plot_confusion_matrix\n",
        "\n",
        "from sklearn.neighbors import KNeighborsClassifier\n",
        "from sklearn.svm import SVC\n",
        "from sklearn.naive_bayes import MultinomialNB\n",
        "from sklearn.ensemble import RandomForestClassifier\n",
        "from sklearn.calibration import CalibratedClassifierCV\n",
        "from sklearn import svm\n",
        "\n",
        "from sklearn.model_selection import train_test_split\n",
        "from sklearn.model_selection import GridSearchCV\n",
        "from sklearn.metrics import classification_report\n",
        "\n",
        "import math\n",
        "\n",
        "warnings.filterwarnings(\"ignore\")\n",
        "\n",
        "from sklearn.linear_model import LogisticRegression\n",
        "\n"
      ],
      "execution_count": 2,
      "outputs": []
    },
    {
      "cell_type": "markdown",
      "metadata": {
        "id": "zHTnb5nXEvYA"
      },
      "source": [
        "# **Reading Forest Cover Data**"
      ]
    },
    {
      "cell_type": "code",
      "metadata": {
        "colab": {
          "base_uri": "https://localhost:8080/",
          "height": 263
        },
        "id": "w1khVwDZHvLs",
        "outputId": "b101d48d-41ad-4e81-a2f4-bb2bd133e2ed"
      },
      "source": [
        "data=pd.read_csv('/content/drive/MyDrive/Kaggle/covtype.csv')\n",
        "print(\"number of datapoints\",data.shape[0])\n",
        "print(\"number of features\",data.shape[1])\n",
        "data.head()"
      ],
      "execution_count": 3,
      "outputs": [
        {
          "output_type": "stream",
          "text": [
            "number of datapoints 581012\n",
            "number of features 55\n"
          ],
          "name": "stdout"
        },
        {
          "output_type": "execute_result",
          "data": {
            "text/html": [
              "<div>\n",
              "<style scoped>\n",
              "    .dataframe tbody tr th:only-of-type {\n",
              "        vertical-align: middle;\n",
              "    }\n",
              "\n",
              "    .dataframe tbody tr th {\n",
              "        vertical-align: top;\n",
              "    }\n",
              "\n",
              "    .dataframe thead th {\n",
              "        text-align: right;\n",
              "    }\n",
              "</style>\n",
              "<table border=\"1\" class=\"dataframe\">\n",
              "  <thead>\n",
              "    <tr style=\"text-align: right;\">\n",
              "      <th></th>\n",
              "      <th>Elevation</th>\n",
              "      <th>Aspect</th>\n",
              "      <th>Slope</th>\n",
              "      <th>Horizontal_Distance_To_Hydrology</th>\n",
              "      <th>Vertical_Distance_To_Hydrology</th>\n",
              "      <th>Horizontal_Distance_To_Roadways</th>\n",
              "      <th>Hillshade_9am</th>\n",
              "      <th>Hillshade_Noon</th>\n",
              "      <th>Hillshade_3pm</th>\n",
              "      <th>Horizontal_Distance_To_Fire_Points</th>\n",
              "      <th>Wilderness_Area1</th>\n",
              "      <th>Wilderness_Area2</th>\n",
              "      <th>Wilderness_Area3</th>\n",
              "      <th>Wilderness_Area4</th>\n",
              "      <th>Soil_Type1</th>\n",
              "      <th>Soil_Type2</th>\n",
              "      <th>Soil_Type3</th>\n",
              "      <th>Soil_Type4</th>\n",
              "      <th>Soil_Type5</th>\n",
              "      <th>Soil_Type6</th>\n",
              "      <th>Soil_Type7</th>\n",
              "      <th>Soil_Type8</th>\n",
              "      <th>Soil_Type9</th>\n",
              "      <th>Soil_Type10</th>\n",
              "      <th>Soil_Type11</th>\n",
              "      <th>Soil_Type12</th>\n",
              "      <th>Soil_Type13</th>\n",
              "      <th>Soil_Type14</th>\n",
              "      <th>Soil_Type15</th>\n",
              "      <th>Soil_Type16</th>\n",
              "      <th>Soil_Type17</th>\n",
              "      <th>Soil_Type18</th>\n",
              "      <th>Soil_Type19</th>\n",
              "      <th>Soil_Type20</th>\n",
              "      <th>Soil_Type21</th>\n",
              "      <th>Soil_Type22</th>\n",
              "      <th>Soil_Type23</th>\n",
              "      <th>Soil_Type24</th>\n",
              "      <th>Soil_Type25</th>\n",
              "      <th>Soil_Type26</th>\n",
              "      <th>Soil_Type27</th>\n",
              "      <th>Soil_Type28</th>\n",
              "      <th>Soil_Type29</th>\n",
              "      <th>Soil_Type30</th>\n",
              "      <th>Soil_Type31</th>\n",
              "      <th>Soil_Type32</th>\n",
              "      <th>Soil_Type33</th>\n",
              "      <th>Soil_Type34</th>\n",
              "      <th>Soil_Type35</th>\n",
              "      <th>Soil_Type36</th>\n",
              "      <th>Soil_Type37</th>\n",
              "      <th>Soil_Type38</th>\n",
              "      <th>Soil_Type39</th>\n",
              "      <th>Soil_Type40</th>\n",
              "      <th>Cover_Type</th>\n",
              "    </tr>\n",
              "  </thead>\n",
              "  <tbody>\n",
              "    <tr>\n",
              "      <th>0</th>\n",
              "      <td>2596</td>\n",
              "      <td>51</td>\n",
              "      <td>3</td>\n",
              "      <td>258</td>\n",
              "      <td>0</td>\n",
              "      <td>510</td>\n",
              "      <td>221</td>\n",
              "      <td>232</td>\n",
              "      <td>148</td>\n",
              "      <td>6279</td>\n",
              "      <td>1</td>\n",
              "      <td>0</td>\n",
              "      <td>0</td>\n",
              "      <td>0</td>\n",
              "      <td>0</td>\n",
              "      <td>0</td>\n",
              "      <td>0</td>\n",
              "      <td>0</td>\n",
              "      <td>0</td>\n",
              "      <td>0</td>\n",
              "      <td>0</td>\n",
              "      <td>0</td>\n",
              "      <td>0</td>\n",
              "      <td>0</td>\n",
              "      <td>0</td>\n",
              "      <td>0</td>\n",
              "      <td>0</td>\n",
              "      <td>0</td>\n",
              "      <td>0</td>\n",
              "      <td>0</td>\n",
              "      <td>0</td>\n",
              "      <td>0</td>\n",
              "      <td>0</td>\n",
              "      <td>0</td>\n",
              "      <td>0</td>\n",
              "      <td>0</td>\n",
              "      <td>0</td>\n",
              "      <td>0</td>\n",
              "      <td>0</td>\n",
              "      <td>0</td>\n",
              "      <td>0</td>\n",
              "      <td>0</td>\n",
              "      <td>1</td>\n",
              "      <td>0</td>\n",
              "      <td>0</td>\n",
              "      <td>0</td>\n",
              "      <td>0</td>\n",
              "      <td>0</td>\n",
              "      <td>0</td>\n",
              "      <td>0</td>\n",
              "      <td>0</td>\n",
              "      <td>0</td>\n",
              "      <td>0</td>\n",
              "      <td>0</td>\n",
              "      <td>5</td>\n",
              "    </tr>\n",
              "    <tr>\n",
              "      <th>1</th>\n",
              "      <td>2590</td>\n",
              "      <td>56</td>\n",
              "      <td>2</td>\n",
              "      <td>212</td>\n",
              "      <td>-6</td>\n",
              "      <td>390</td>\n",
              "      <td>220</td>\n",
              "      <td>235</td>\n",
              "      <td>151</td>\n",
              "      <td>6225</td>\n",
              "      <td>1</td>\n",
              "      <td>0</td>\n",
              "      <td>0</td>\n",
              "      <td>0</td>\n",
              "      <td>0</td>\n",
              "      <td>0</td>\n",
              "      <td>0</td>\n",
              "      <td>0</td>\n",
              "      <td>0</td>\n",
              "      <td>0</td>\n",
              "      <td>0</td>\n",
              "      <td>0</td>\n",
              "      <td>0</td>\n",
              "      <td>0</td>\n",
              "      <td>0</td>\n",
              "      <td>0</td>\n",
              "      <td>0</td>\n",
              "      <td>0</td>\n",
              "      <td>0</td>\n",
              "      <td>0</td>\n",
              "      <td>0</td>\n",
              "      <td>0</td>\n",
              "      <td>0</td>\n",
              "      <td>0</td>\n",
              "      <td>0</td>\n",
              "      <td>0</td>\n",
              "      <td>0</td>\n",
              "      <td>0</td>\n",
              "      <td>0</td>\n",
              "      <td>0</td>\n",
              "      <td>0</td>\n",
              "      <td>0</td>\n",
              "      <td>1</td>\n",
              "      <td>0</td>\n",
              "      <td>0</td>\n",
              "      <td>0</td>\n",
              "      <td>0</td>\n",
              "      <td>0</td>\n",
              "      <td>0</td>\n",
              "      <td>0</td>\n",
              "      <td>0</td>\n",
              "      <td>0</td>\n",
              "      <td>0</td>\n",
              "      <td>0</td>\n",
              "      <td>5</td>\n",
              "    </tr>\n",
              "    <tr>\n",
              "      <th>2</th>\n",
              "      <td>2804</td>\n",
              "      <td>139</td>\n",
              "      <td>9</td>\n",
              "      <td>268</td>\n",
              "      <td>65</td>\n",
              "      <td>3180</td>\n",
              "      <td>234</td>\n",
              "      <td>238</td>\n",
              "      <td>135</td>\n",
              "      <td>6121</td>\n",
              "      <td>1</td>\n",
              "      <td>0</td>\n",
              "      <td>0</td>\n",
              "      <td>0</td>\n",
              "      <td>0</td>\n",
              "      <td>0</td>\n",
              "      <td>0</td>\n",
              "      <td>0</td>\n",
              "      <td>0</td>\n",
              "      <td>0</td>\n",
              "      <td>0</td>\n",
              "      <td>0</td>\n",
              "      <td>0</td>\n",
              "      <td>0</td>\n",
              "      <td>0</td>\n",
              "      <td>1</td>\n",
              "      <td>0</td>\n",
              "      <td>0</td>\n",
              "      <td>0</td>\n",
              "      <td>0</td>\n",
              "      <td>0</td>\n",
              "      <td>0</td>\n",
              "      <td>0</td>\n",
              "      <td>0</td>\n",
              "      <td>0</td>\n",
              "      <td>0</td>\n",
              "      <td>0</td>\n",
              "      <td>0</td>\n",
              "      <td>0</td>\n",
              "      <td>0</td>\n",
              "      <td>0</td>\n",
              "      <td>0</td>\n",
              "      <td>0</td>\n",
              "      <td>0</td>\n",
              "      <td>0</td>\n",
              "      <td>0</td>\n",
              "      <td>0</td>\n",
              "      <td>0</td>\n",
              "      <td>0</td>\n",
              "      <td>0</td>\n",
              "      <td>0</td>\n",
              "      <td>0</td>\n",
              "      <td>0</td>\n",
              "      <td>0</td>\n",
              "      <td>2</td>\n",
              "    </tr>\n",
              "    <tr>\n",
              "      <th>3</th>\n",
              "      <td>2785</td>\n",
              "      <td>155</td>\n",
              "      <td>18</td>\n",
              "      <td>242</td>\n",
              "      <td>118</td>\n",
              "      <td>3090</td>\n",
              "      <td>238</td>\n",
              "      <td>238</td>\n",
              "      <td>122</td>\n",
              "      <td>6211</td>\n",
              "      <td>1</td>\n",
              "      <td>0</td>\n",
              "      <td>0</td>\n",
              "      <td>0</td>\n",
              "      <td>0</td>\n",
              "      <td>0</td>\n",
              "      <td>0</td>\n",
              "      <td>0</td>\n",
              "      <td>0</td>\n",
              "      <td>0</td>\n",
              "      <td>0</td>\n",
              "      <td>0</td>\n",
              "      <td>0</td>\n",
              "      <td>0</td>\n",
              "      <td>0</td>\n",
              "      <td>0</td>\n",
              "      <td>0</td>\n",
              "      <td>0</td>\n",
              "      <td>0</td>\n",
              "      <td>0</td>\n",
              "      <td>0</td>\n",
              "      <td>0</td>\n",
              "      <td>0</td>\n",
              "      <td>0</td>\n",
              "      <td>0</td>\n",
              "      <td>0</td>\n",
              "      <td>0</td>\n",
              "      <td>0</td>\n",
              "      <td>0</td>\n",
              "      <td>0</td>\n",
              "      <td>0</td>\n",
              "      <td>0</td>\n",
              "      <td>0</td>\n",
              "      <td>1</td>\n",
              "      <td>0</td>\n",
              "      <td>0</td>\n",
              "      <td>0</td>\n",
              "      <td>0</td>\n",
              "      <td>0</td>\n",
              "      <td>0</td>\n",
              "      <td>0</td>\n",
              "      <td>0</td>\n",
              "      <td>0</td>\n",
              "      <td>0</td>\n",
              "      <td>2</td>\n",
              "    </tr>\n",
              "    <tr>\n",
              "      <th>4</th>\n",
              "      <td>2595</td>\n",
              "      <td>45</td>\n",
              "      <td>2</td>\n",
              "      <td>153</td>\n",
              "      <td>-1</td>\n",
              "      <td>391</td>\n",
              "      <td>220</td>\n",
              "      <td>234</td>\n",
              "      <td>150</td>\n",
              "      <td>6172</td>\n",
              "      <td>1</td>\n",
              "      <td>0</td>\n",
              "      <td>0</td>\n",
              "      <td>0</td>\n",
              "      <td>0</td>\n",
              "      <td>0</td>\n",
              "      <td>0</td>\n",
              "      <td>0</td>\n",
              "      <td>0</td>\n",
              "      <td>0</td>\n",
              "      <td>0</td>\n",
              "      <td>0</td>\n",
              "      <td>0</td>\n",
              "      <td>0</td>\n",
              "      <td>0</td>\n",
              "      <td>0</td>\n",
              "      <td>0</td>\n",
              "      <td>0</td>\n",
              "      <td>0</td>\n",
              "      <td>0</td>\n",
              "      <td>0</td>\n",
              "      <td>0</td>\n",
              "      <td>0</td>\n",
              "      <td>0</td>\n",
              "      <td>0</td>\n",
              "      <td>0</td>\n",
              "      <td>0</td>\n",
              "      <td>0</td>\n",
              "      <td>0</td>\n",
              "      <td>0</td>\n",
              "      <td>0</td>\n",
              "      <td>0</td>\n",
              "      <td>1</td>\n",
              "      <td>0</td>\n",
              "      <td>0</td>\n",
              "      <td>0</td>\n",
              "      <td>0</td>\n",
              "      <td>0</td>\n",
              "      <td>0</td>\n",
              "      <td>0</td>\n",
              "      <td>0</td>\n",
              "      <td>0</td>\n",
              "      <td>0</td>\n",
              "      <td>0</td>\n",
              "      <td>5</td>\n",
              "    </tr>\n",
              "  </tbody>\n",
              "</table>\n",
              "</div>"
            ],
            "text/plain": [
              "   Elevation  Aspect  Slope  ...  Soil_Type39  Soil_Type40  Cover_Type\n",
              "0       2596      51      3  ...            0            0           5\n",
              "1       2590      56      2  ...            0            0           5\n",
              "2       2804     139      9  ...            0            0           2\n",
              "3       2785     155     18  ...            0            0           2\n",
              "4       2595      45      2  ...            0            0           5\n",
              "\n",
              "[5 rows x 55 columns]"
            ]
          },
          "metadata": {
            "tags": []
          },
          "execution_count": 3
        }
      ]
    },
    {
      "cell_type": "code",
      "metadata": {
        "colab": {
          "base_uri": "https://localhost:8080/",
          "height": 320
        },
        "id": "_jZCG9IBL1sB",
        "outputId": "e2e822cb-220a-4c82-89ac-05605e6b89f9"
      },
      "source": [
        "data.describe()"
      ],
      "execution_count": 4,
      "outputs": [
        {
          "output_type": "execute_result",
          "data": {
            "text/html": [
              "<div>\n",
              "<style scoped>\n",
              "    .dataframe tbody tr th:only-of-type {\n",
              "        vertical-align: middle;\n",
              "    }\n",
              "\n",
              "    .dataframe tbody tr th {\n",
              "        vertical-align: top;\n",
              "    }\n",
              "\n",
              "    .dataframe thead th {\n",
              "        text-align: right;\n",
              "    }\n",
              "</style>\n",
              "<table border=\"1\" class=\"dataframe\">\n",
              "  <thead>\n",
              "    <tr style=\"text-align: right;\">\n",
              "      <th></th>\n",
              "      <th>Elevation</th>\n",
              "      <th>Aspect</th>\n",
              "      <th>Slope</th>\n",
              "      <th>Horizontal_Distance_To_Hydrology</th>\n",
              "      <th>Vertical_Distance_To_Hydrology</th>\n",
              "      <th>Horizontal_Distance_To_Roadways</th>\n",
              "      <th>Hillshade_9am</th>\n",
              "      <th>Hillshade_Noon</th>\n",
              "      <th>Hillshade_3pm</th>\n",
              "      <th>Horizontal_Distance_To_Fire_Points</th>\n",
              "      <th>Wilderness_Area1</th>\n",
              "      <th>Wilderness_Area2</th>\n",
              "      <th>Wilderness_Area3</th>\n",
              "      <th>Wilderness_Area4</th>\n",
              "      <th>Soil_Type1</th>\n",
              "      <th>Soil_Type2</th>\n",
              "      <th>Soil_Type3</th>\n",
              "      <th>Soil_Type4</th>\n",
              "      <th>Soil_Type5</th>\n",
              "      <th>Soil_Type6</th>\n",
              "      <th>Soil_Type7</th>\n",
              "      <th>Soil_Type8</th>\n",
              "      <th>Soil_Type9</th>\n",
              "      <th>Soil_Type10</th>\n",
              "      <th>Soil_Type11</th>\n",
              "      <th>Soil_Type12</th>\n",
              "      <th>Soil_Type13</th>\n",
              "      <th>Soil_Type14</th>\n",
              "      <th>Soil_Type15</th>\n",
              "      <th>Soil_Type16</th>\n",
              "      <th>Soil_Type17</th>\n",
              "      <th>Soil_Type18</th>\n",
              "      <th>Soil_Type19</th>\n",
              "      <th>Soil_Type20</th>\n",
              "      <th>Soil_Type21</th>\n",
              "      <th>Soil_Type22</th>\n",
              "      <th>Soil_Type23</th>\n",
              "      <th>Soil_Type24</th>\n",
              "      <th>Soil_Type25</th>\n",
              "      <th>Soil_Type26</th>\n",
              "      <th>Soil_Type27</th>\n",
              "      <th>Soil_Type28</th>\n",
              "      <th>Soil_Type29</th>\n",
              "      <th>Soil_Type30</th>\n",
              "      <th>Soil_Type31</th>\n",
              "      <th>Soil_Type32</th>\n",
              "      <th>Soil_Type33</th>\n",
              "      <th>Soil_Type34</th>\n",
              "      <th>Soil_Type35</th>\n",
              "      <th>Soil_Type36</th>\n",
              "      <th>Soil_Type37</th>\n",
              "      <th>Soil_Type38</th>\n",
              "      <th>Soil_Type39</th>\n",
              "      <th>Soil_Type40</th>\n",
              "      <th>Cover_Type</th>\n",
              "    </tr>\n",
              "  </thead>\n",
              "  <tbody>\n",
              "    <tr>\n",
              "      <th>count</th>\n",
              "      <td>581012.000000</td>\n",
              "      <td>581012.000000</td>\n",
              "      <td>581012.000000</td>\n",
              "      <td>581012.000000</td>\n",
              "      <td>581012.000000</td>\n",
              "      <td>581012.000000</td>\n",
              "      <td>581012.000000</td>\n",
              "      <td>581012.000000</td>\n",
              "      <td>581012.000000</td>\n",
              "      <td>581012.000000</td>\n",
              "      <td>581012.000000</td>\n",
              "      <td>581012.000000</td>\n",
              "      <td>581012.000000</td>\n",
              "      <td>581012.000000</td>\n",
              "      <td>581012.000000</td>\n",
              "      <td>581012.000000</td>\n",
              "      <td>581012.000000</td>\n",
              "      <td>581012.000000</td>\n",
              "      <td>581012.000000</td>\n",
              "      <td>581012.000000</td>\n",
              "      <td>581012.000000</td>\n",
              "      <td>581012.000000</td>\n",
              "      <td>581012.000000</td>\n",
              "      <td>581012.000000</td>\n",
              "      <td>581012.000000</td>\n",
              "      <td>581012.000000</td>\n",
              "      <td>581012.000000</td>\n",
              "      <td>581012.000000</td>\n",
              "      <td>581012.000000</td>\n",
              "      <td>581012.000000</td>\n",
              "      <td>581012.000000</td>\n",
              "      <td>581012.000000</td>\n",
              "      <td>581012.000000</td>\n",
              "      <td>581012.000000</td>\n",
              "      <td>581012.000000</td>\n",
              "      <td>581012.000000</td>\n",
              "      <td>581012.000000</td>\n",
              "      <td>581012.000000</td>\n",
              "      <td>581012.000000</td>\n",
              "      <td>581012.000000</td>\n",
              "      <td>581012.000000</td>\n",
              "      <td>581012.000000</td>\n",
              "      <td>581012.000000</td>\n",
              "      <td>581012.000000</td>\n",
              "      <td>581012.000000</td>\n",
              "      <td>581012.000000</td>\n",
              "      <td>581012.000000</td>\n",
              "      <td>581012.000000</td>\n",
              "      <td>581012.000000</td>\n",
              "      <td>581012.000000</td>\n",
              "      <td>581012.000000</td>\n",
              "      <td>581012.000000</td>\n",
              "      <td>581012.000000</td>\n",
              "      <td>581012.000000</td>\n",
              "      <td>581012.000000</td>\n",
              "    </tr>\n",
              "    <tr>\n",
              "      <th>mean</th>\n",
              "      <td>2959.365301</td>\n",
              "      <td>155.656807</td>\n",
              "      <td>14.103704</td>\n",
              "      <td>269.428217</td>\n",
              "      <td>46.418855</td>\n",
              "      <td>2350.146611</td>\n",
              "      <td>212.146049</td>\n",
              "      <td>223.318716</td>\n",
              "      <td>142.528263</td>\n",
              "      <td>1980.291226</td>\n",
              "      <td>0.448865</td>\n",
              "      <td>0.051434</td>\n",
              "      <td>0.436074</td>\n",
              "      <td>0.063627</td>\n",
              "      <td>0.005217</td>\n",
              "      <td>0.012952</td>\n",
              "      <td>0.008301</td>\n",
              "      <td>0.021335</td>\n",
              "      <td>0.002749</td>\n",
              "      <td>0.011316</td>\n",
              "      <td>0.000181</td>\n",
              "      <td>0.000308</td>\n",
              "      <td>0.001974</td>\n",
              "      <td>0.056168</td>\n",
              "      <td>0.021359</td>\n",
              "      <td>0.051584</td>\n",
              "      <td>0.030001</td>\n",
              "      <td>0.001031</td>\n",
              "      <td>0.000005</td>\n",
              "      <td>0.004897</td>\n",
              "      <td>0.005890</td>\n",
              "      <td>0.003268</td>\n",
              "      <td>0.006921</td>\n",
              "      <td>0.015936</td>\n",
              "      <td>0.001442</td>\n",
              "      <td>0.057439</td>\n",
              "      <td>0.099399</td>\n",
              "      <td>0.036622</td>\n",
              "      <td>0.000816</td>\n",
              "      <td>0.004456</td>\n",
              "      <td>0.001869</td>\n",
              "      <td>0.001628</td>\n",
              "      <td>0.198356</td>\n",
              "      <td>0.051927</td>\n",
              "      <td>0.044175</td>\n",
              "      <td>0.090392</td>\n",
              "      <td>0.077716</td>\n",
              "      <td>0.002773</td>\n",
              "      <td>0.003255</td>\n",
              "      <td>0.000205</td>\n",
              "      <td>0.000513</td>\n",
              "      <td>0.026803</td>\n",
              "      <td>0.023762</td>\n",
              "      <td>0.015060</td>\n",
              "      <td>2.051471</td>\n",
              "    </tr>\n",
              "    <tr>\n",
              "      <th>std</th>\n",
              "      <td>279.984734</td>\n",
              "      <td>111.913721</td>\n",
              "      <td>7.488242</td>\n",
              "      <td>212.549356</td>\n",
              "      <td>58.295232</td>\n",
              "      <td>1559.254870</td>\n",
              "      <td>26.769889</td>\n",
              "      <td>19.768697</td>\n",
              "      <td>38.274529</td>\n",
              "      <td>1324.195210</td>\n",
              "      <td>0.497379</td>\n",
              "      <td>0.220882</td>\n",
              "      <td>0.495897</td>\n",
              "      <td>0.244087</td>\n",
              "      <td>0.072039</td>\n",
              "      <td>0.113066</td>\n",
              "      <td>0.090731</td>\n",
              "      <td>0.144499</td>\n",
              "      <td>0.052356</td>\n",
              "      <td>0.105775</td>\n",
              "      <td>0.013442</td>\n",
              "      <td>0.017550</td>\n",
              "      <td>0.044387</td>\n",
              "      <td>0.230245</td>\n",
              "      <td>0.144579</td>\n",
              "      <td>0.221186</td>\n",
              "      <td>0.170590</td>\n",
              "      <td>0.032092</td>\n",
              "      <td>0.002272</td>\n",
              "      <td>0.069804</td>\n",
              "      <td>0.076518</td>\n",
              "      <td>0.057077</td>\n",
              "      <td>0.082902</td>\n",
              "      <td>0.125228</td>\n",
              "      <td>0.037950</td>\n",
              "      <td>0.232681</td>\n",
              "      <td>0.299197</td>\n",
              "      <td>0.187833</td>\n",
              "      <td>0.028551</td>\n",
              "      <td>0.066605</td>\n",
              "      <td>0.043193</td>\n",
              "      <td>0.040318</td>\n",
              "      <td>0.398762</td>\n",
              "      <td>0.221879</td>\n",
              "      <td>0.205483</td>\n",
              "      <td>0.286743</td>\n",
              "      <td>0.267725</td>\n",
              "      <td>0.052584</td>\n",
              "      <td>0.056957</td>\n",
              "      <td>0.014310</td>\n",
              "      <td>0.022641</td>\n",
              "      <td>0.161508</td>\n",
              "      <td>0.152307</td>\n",
              "      <td>0.121791</td>\n",
              "      <td>1.396504</td>\n",
              "    </tr>\n",
              "    <tr>\n",
              "      <th>min</th>\n",
              "      <td>1859.000000</td>\n",
              "      <td>0.000000</td>\n",
              "      <td>0.000000</td>\n",
              "      <td>0.000000</td>\n",
              "      <td>-173.000000</td>\n",
              "      <td>0.000000</td>\n",
              "      <td>0.000000</td>\n",
              "      <td>0.000000</td>\n",
              "      <td>0.000000</td>\n",
              "      <td>0.000000</td>\n",
              "      <td>0.000000</td>\n",
              "      <td>0.000000</td>\n",
              "      <td>0.000000</td>\n",
              "      <td>0.000000</td>\n",
              "      <td>0.000000</td>\n",
              "      <td>0.000000</td>\n",
              "      <td>0.000000</td>\n",
              "      <td>0.000000</td>\n",
              "      <td>0.000000</td>\n",
              "      <td>0.000000</td>\n",
              "      <td>0.000000</td>\n",
              "      <td>0.000000</td>\n",
              "      <td>0.000000</td>\n",
              "      <td>0.000000</td>\n",
              "      <td>0.000000</td>\n",
              "      <td>0.000000</td>\n",
              "      <td>0.000000</td>\n",
              "      <td>0.000000</td>\n",
              "      <td>0.000000</td>\n",
              "      <td>0.000000</td>\n",
              "      <td>0.000000</td>\n",
              "      <td>0.000000</td>\n",
              "      <td>0.000000</td>\n",
              "      <td>0.000000</td>\n",
              "      <td>0.000000</td>\n",
              "      <td>0.000000</td>\n",
              "      <td>0.000000</td>\n",
              "      <td>0.000000</td>\n",
              "      <td>0.000000</td>\n",
              "      <td>0.000000</td>\n",
              "      <td>0.000000</td>\n",
              "      <td>0.000000</td>\n",
              "      <td>0.000000</td>\n",
              "      <td>0.000000</td>\n",
              "      <td>0.000000</td>\n",
              "      <td>0.000000</td>\n",
              "      <td>0.000000</td>\n",
              "      <td>0.000000</td>\n",
              "      <td>0.000000</td>\n",
              "      <td>0.000000</td>\n",
              "      <td>0.000000</td>\n",
              "      <td>0.000000</td>\n",
              "      <td>0.000000</td>\n",
              "      <td>0.000000</td>\n",
              "      <td>1.000000</td>\n",
              "    </tr>\n",
              "    <tr>\n",
              "      <th>25%</th>\n",
              "      <td>2809.000000</td>\n",
              "      <td>58.000000</td>\n",
              "      <td>9.000000</td>\n",
              "      <td>108.000000</td>\n",
              "      <td>7.000000</td>\n",
              "      <td>1106.000000</td>\n",
              "      <td>198.000000</td>\n",
              "      <td>213.000000</td>\n",
              "      <td>119.000000</td>\n",
              "      <td>1024.000000</td>\n",
              "      <td>0.000000</td>\n",
              "      <td>0.000000</td>\n",
              "      <td>0.000000</td>\n",
              "      <td>0.000000</td>\n",
              "      <td>0.000000</td>\n",
              "      <td>0.000000</td>\n",
              "      <td>0.000000</td>\n",
              "      <td>0.000000</td>\n",
              "      <td>0.000000</td>\n",
              "      <td>0.000000</td>\n",
              "      <td>0.000000</td>\n",
              "      <td>0.000000</td>\n",
              "      <td>0.000000</td>\n",
              "      <td>0.000000</td>\n",
              "      <td>0.000000</td>\n",
              "      <td>0.000000</td>\n",
              "      <td>0.000000</td>\n",
              "      <td>0.000000</td>\n",
              "      <td>0.000000</td>\n",
              "      <td>0.000000</td>\n",
              "      <td>0.000000</td>\n",
              "      <td>0.000000</td>\n",
              "      <td>0.000000</td>\n",
              "      <td>0.000000</td>\n",
              "      <td>0.000000</td>\n",
              "      <td>0.000000</td>\n",
              "      <td>0.000000</td>\n",
              "      <td>0.000000</td>\n",
              "      <td>0.000000</td>\n",
              "      <td>0.000000</td>\n",
              "      <td>0.000000</td>\n",
              "      <td>0.000000</td>\n",
              "      <td>0.000000</td>\n",
              "      <td>0.000000</td>\n",
              "      <td>0.000000</td>\n",
              "      <td>0.000000</td>\n",
              "      <td>0.000000</td>\n",
              "      <td>0.000000</td>\n",
              "      <td>0.000000</td>\n",
              "      <td>0.000000</td>\n",
              "      <td>0.000000</td>\n",
              "      <td>0.000000</td>\n",
              "      <td>0.000000</td>\n",
              "      <td>0.000000</td>\n",
              "      <td>1.000000</td>\n",
              "    </tr>\n",
              "    <tr>\n",
              "      <th>50%</th>\n",
              "      <td>2996.000000</td>\n",
              "      <td>127.000000</td>\n",
              "      <td>13.000000</td>\n",
              "      <td>218.000000</td>\n",
              "      <td>30.000000</td>\n",
              "      <td>1997.000000</td>\n",
              "      <td>218.000000</td>\n",
              "      <td>226.000000</td>\n",
              "      <td>143.000000</td>\n",
              "      <td>1710.000000</td>\n",
              "      <td>0.000000</td>\n",
              "      <td>0.000000</td>\n",
              "      <td>0.000000</td>\n",
              "      <td>0.000000</td>\n",
              "      <td>0.000000</td>\n",
              "      <td>0.000000</td>\n",
              "      <td>0.000000</td>\n",
              "      <td>0.000000</td>\n",
              "      <td>0.000000</td>\n",
              "      <td>0.000000</td>\n",
              "      <td>0.000000</td>\n",
              "      <td>0.000000</td>\n",
              "      <td>0.000000</td>\n",
              "      <td>0.000000</td>\n",
              "      <td>0.000000</td>\n",
              "      <td>0.000000</td>\n",
              "      <td>0.000000</td>\n",
              "      <td>0.000000</td>\n",
              "      <td>0.000000</td>\n",
              "      <td>0.000000</td>\n",
              "      <td>0.000000</td>\n",
              "      <td>0.000000</td>\n",
              "      <td>0.000000</td>\n",
              "      <td>0.000000</td>\n",
              "      <td>0.000000</td>\n",
              "      <td>0.000000</td>\n",
              "      <td>0.000000</td>\n",
              "      <td>0.000000</td>\n",
              "      <td>0.000000</td>\n",
              "      <td>0.000000</td>\n",
              "      <td>0.000000</td>\n",
              "      <td>0.000000</td>\n",
              "      <td>0.000000</td>\n",
              "      <td>0.000000</td>\n",
              "      <td>0.000000</td>\n",
              "      <td>0.000000</td>\n",
              "      <td>0.000000</td>\n",
              "      <td>0.000000</td>\n",
              "      <td>0.000000</td>\n",
              "      <td>0.000000</td>\n",
              "      <td>0.000000</td>\n",
              "      <td>0.000000</td>\n",
              "      <td>0.000000</td>\n",
              "      <td>0.000000</td>\n",
              "      <td>2.000000</td>\n",
              "    </tr>\n",
              "    <tr>\n",
              "      <th>75%</th>\n",
              "      <td>3163.000000</td>\n",
              "      <td>260.000000</td>\n",
              "      <td>18.000000</td>\n",
              "      <td>384.000000</td>\n",
              "      <td>69.000000</td>\n",
              "      <td>3328.000000</td>\n",
              "      <td>231.000000</td>\n",
              "      <td>237.000000</td>\n",
              "      <td>168.000000</td>\n",
              "      <td>2550.000000</td>\n",
              "      <td>1.000000</td>\n",
              "      <td>0.000000</td>\n",
              "      <td>1.000000</td>\n",
              "      <td>0.000000</td>\n",
              "      <td>0.000000</td>\n",
              "      <td>0.000000</td>\n",
              "      <td>0.000000</td>\n",
              "      <td>0.000000</td>\n",
              "      <td>0.000000</td>\n",
              "      <td>0.000000</td>\n",
              "      <td>0.000000</td>\n",
              "      <td>0.000000</td>\n",
              "      <td>0.000000</td>\n",
              "      <td>0.000000</td>\n",
              "      <td>0.000000</td>\n",
              "      <td>0.000000</td>\n",
              "      <td>0.000000</td>\n",
              "      <td>0.000000</td>\n",
              "      <td>0.000000</td>\n",
              "      <td>0.000000</td>\n",
              "      <td>0.000000</td>\n",
              "      <td>0.000000</td>\n",
              "      <td>0.000000</td>\n",
              "      <td>0.000000</td>\n",
              "      <td>0.000000</td>\n",
              "      <td>0.000000</td>\n",
              "      <td>0.000000</td>\n",
              "      <td>0.000000</td>\n",
              "      <td>0.000000</td>\n",
              "      <td>0.000000</td>\n",
              "      <td>0.000000</td>\n",
              "      <td>0.000000</td>\n",
              "      <td>0.000000</td>\n",
              "      <td>0.000000</td>\n",
              "      <td>0.000000</td>\n",
              "      <td>0.000000</td>\n",
              "      <td>0.000000</td>\n",
              "      <td>0.000000</td>\n",
              "      <td>0.000000</td>\n",
              "      <td>0.000000</td>\n",
              "      <td>0.000000</td>\n",
              "      <td>0.000000</td>\n",
              "      <td>0.000000</td>\n",
              "      <td>0.000000</td>\n",
              "      <td>2.000000</td>\n",
              "    </tr>\n",
              "    <tr>\n",
              "      <th>max</th>\n",
              "      <td>3858.000000</td>\n",
              "      <td>360.000000</td>\n",
              "      <td>66.000000</td>\n",
              "      <td>1397.000000</td>\n",
              "      <td>601.000000</td>\n",
              "      <td>7117.000000</td>\n",
              "      <td>254.000000</td>\n",
              "      <td>254.000000</td>\n",
              "      <td>254.000000</td>\n",
              "      <td>7173.000000</td>\n",
              "      <td>1.000000</td>\n",
              "      <td>1.000000</td>\n",
              "      <td>1.000000</td>\n",
              "      <td>1.000000</td>\n",
              "      <td>1.000000</td>\n",
              "      <td>1.000000</td>\n",
              "      <td>1.000000</td>\n",
              "      <td>1.000000</td>\n",
              "      <td>1.000000</td>\n",
              "      <td>1.000000</td>\n",
              "      <td>1.000000</td>\n",
              "      <td>1.000000</td>\n",
              "      <td>1.000000</td>\n",
              "      <td>1.000000</td>\n",
              "      <td>1.000000</td>\n",
              "      <td>1.000000</td>\n",
              "      <td>1.000000</td>\n",
              "      <td>1.000000</td>\n",
              "      <td>1.000000</td>\n",
              "      <td>1.000000</td>\n",
              "      <td>1.000000</td>\n",
              "      <td>1.000000</td>\n",
              "      <td>1.000000</td>\n",
              "      <td>1.000000</td>\n",
              "      <td>1.000000</td>\n",
              "      <td>1.000000</td>\n",
              "      <td>1.000000</td>\n",
              "      <td>1.000000</td>\n",
              "      <td>1.000000</td>\n",
              "      <td>1.000000</td>\n",
              "      <td>1.000000</td>\n",
              "      <td>1.000000</td>\n",
              "      <td>1.000000</td>\n",
              "      <td>1.000000</td>\n",
              "      <td>1.000000</td>\n",
              "      <td>1.000000</td>\n",
              "      <td>1.000000</td>\n",
              "      <td>1.000000</td>\n",
              "      <td>1.000000</td>\n",
              "      <td>1.000000</td>\n",
              "      <td>1.000000</td>\n",
              "      <td>1.000000</td>\n",
              "      <td>1.000000</td>\n",
              "      <td>1.000000</td>\n",
              "      <td>7.000000</td>\n",
              "    </tr>\n",
              "  </tbody>\n",
              "</table>\n",
              "</div>"
            ],
            "text/plain": [
              "           Elevation         Aspect  ...    Soil_Type40     Cover_Type\n",
              "count  581012.000000  581012.000000  ...  581012.000000  581012.000000\n",
              "mean     2959.365301     155.656807  ...       0.015060       2.051471\n",
              "std       279.984734     111.913721  ...       0.121791       1.396504\n",
              "min      1859.000000       0.000000  ...       0.000000       1.000000\n",
              "25%      2809.000000      58.000000  ...       0.000000       1.000000\n",
              "50%      2996.000000     127.000000  ...       0.000000       2.000000\n",
              "75%      3163.000000     260.000000  ...       0.000000       2.000000\n",
              "max      3858.000000     360.000000  ...       1.000000       7.000000\n",
              "\n",
              "[8 rows x 55 columns]"
            ]
          },
          "metadata": {
            "tags": []
          },
          "execution_count": 4
        }
      ]
    },
    {
      "cell_type": "markdown",
      "metadata": {
        "id": "wdO3_yB7E7Av"
      },
      "source": [
        "# **Check for missing values & variable types**"
      ]
    },
    {
      "cell_type": "code",
      "metadata": {
        "colab": {
          "base_uri": "https://localhost:8080/"
        },
        "id": "GGzuu9QuFGU1",
        "outputId": "6e092c41-e96d-4c2e-8a18-bc63de6af216"
      },
      "source": [
        "data.info()"
      ],
      "execution_count": 5,
      "outputs": [
        {
          "output_type": "stream",
          "text": [
            "<class 'pandas.core.frame.DataFrame'>\n",
            "RangeIndex: 581012 entries, 0 to 581011\n",
            "Data columns (total 55 columns):\n",
            " #   Column                              Non-Null Count   Dtype\n",
            "---  ------                              --------------   -----\n",
            " 0   Elevation                           581012 non-null  int64\n",
            " 1   Aspect                              581012 non-null  int64\n",
            " 2   Slope                               581012 non-null  int64\n",
            " 3   Horizontal_Distance_To_Hydrology    581012 non-null  int64\n",
            " 4   Vertical_Distance_To_Hydrology      581012 non-null  int64\n",
            " 5   Horizontal_Distance_To_Roadways     581012 non-null  int64\n",
            " 6   Hillshade_9am                       581012 non-null  int64\n",
            " 7   Hillshade_Noon                      581012 non-null  int64\n",
            " 8   Hillshade_3pm                       581012 non-null  int64\n",
            " 9   Horizontal_Distance_To_Fire_Points  581012 non-null  int64\n",
            " 10  Wilderness_Area1                    581012 non-null  int64\n",
            " 11  Wilderness_Area2                    581012 non-null  int64\n",
            " 12  Wilderness_Area3                    581012 non-null  int64\n",
            " 13  Wilderness_Area4                    581012 non-null  int64\n",
            " 14  Soil_Type1                          581012 non-null  int64\n",
            " 15  Soil_Type2                          581012 non-null  int64\n",
            " 16  Soil_Type3                          581012 non-null  int64\n",
            " 17  Soil_Type4                          581012 non-null  int64\n",
            " 18  Soil_Type5                          581012 non-null  int64\n",
            " 19  Soil_Type6                          581012 non-null  int64\n",
            " 20  Soil_Type7                          581012 non-null  int64\n",
            " 21  Soil_Type8                          581012 non-null  int64\n",
            " 22  Soil_Type9                          581012 non-null  int64\n",
            " 23  Soil_Type10                         581012 non-null  int64\n",
            " 24  Soil_Type11                         581012 non-null  int64\n",
            " 25  Soil_Type12                         581012 non-null  int64\n",
            " 26  Soil_Type13                         581012 non-null  int64\n",
            " 27  Soil_Type14                         581012 non-null  int64\n",
            " 28  Soil_Type15                         581012 non-null  int64\n",
            " 29  Soil_Type16                         581012 non-null  int64\n",
            " 30  Soil_Type17                         581012 non-null  int64\n",
            " 31  Soil_Type18                         581012 non-null  int64\n",
            " 32  Soil_Type19                         581012 non-null  int64\n",
            " 33  Soil_Type20                         581012 non-null  int64\n",
            " 34  Soil_Type21                         581012 non-null  int64\n",
            " 35  Soil_Type22                         581012 non-null  int64\n",
            " 36  Soil_Type23                         581012 non-null  int64\n",
            " 37  Soil_Type24                         581012 non-null  int64\n",
            " 38  Soil_Type25                         581012 non-null  int64\n",
            " 39  Soil_Type26                         581012 non-null  int64\n",
            " 40  Soil_Type27                         581012 non-null  int64\n",
            " 41  Soil_Type28                         581012 non-null  int64\n",
            " 42  Soil_Type29                         581012 non-null  int64\n",
            " 43  Soil_Type30                         581012 non-null  int64\n",
            " 44  Soil_Type31                         581012 non-null  int64\n",
            " 45  Soil_Type32                         581012 non-null  int64\n",
            " 46  Soil_Type33                         581012 non-null  int64\n",
            " 47  Soil_Type34                         581012 non-null  int64\n",
            " 48  Soil_Type35                         581012 non-null  int64\n",
            " 49  Soil_Type36                         581012 non-null  int64\n",
            " 50  Soil_Type37                         581012 non-null  int64\n",
            " 51  Soil_Type38                         581012 non-null  int64\n",
            " 52  Soil_Type39                         581012 non-null  int64\n",
            " 53  Soil_Type40                         581012 non-null  int64\n",
            " 54  Cover_Type                          581012 non-null  int64\n",
            "dtypes: int64(55)\n",
            "memory usage: 243.8 MB\n"
          ],
          "name": "stdout"
        }
      ]
    },
    {
      "cell_type": "code",
      "metadata": {
        "colab": {
          "base_uri": "https://localhost:8080/",
          "height": 69
        },
        "id": "I8FRj5AYLol3",
        "outputId": "efd52594-4d18-4d26-9804-8637c12a6aca"
      },
      "source": [
        "data[data.isnull().any(axis=1)]"
      ],
      "execution_count": 6,
      "outputs": [
        {
          "output_type": "execute_result",
          "data": {
            "text/html": [
              "<div>\n",
              "<style scoped>\n",
              "    .dataframe tbody tr th:only-of-type {\n",
              "        vertical-align: middle;\n",
              "    }\n",
              "\n",
              "    .dataframe tbody tr th {\n",
              "        vertical-align: top;\n",
              "    }\n",
              "\n",
              "    .dataframe thead th {\n",
              "        text-align: right;\n",
              "    }\n",
              "</style>\n",
              "<table border=\"1\" class=\"dataframe\">\n",
              "  <thead>\n",
              "    <tr style=\"text-align: right;\">\n",
              "      <th></th>\n",
              "      <th>Elevation</th>\n",
              "      <th>Aspect</th>\n",
              "      <th>Slope</th>\n",
              "      <th>Horizontal_Distance_To_Hydrology</th>\n",
              "      <th>Vertical_Distance_To_Hydrology</th>\n",
              "      <th>Horizontal_Distance_To_Roadways</th>\n",
              "      <th>Hillshade_9am</th>\n",
              "      <th>Hillshade_Noon</th>\n",
              "      <th>Hillshade_3pm</th>\n",
              "      <th>Horizontal_Distance_To_Fire_Points</th>\n",
              "      <th>Wilderness_Area1</th>\n",
              "      <th>Wilderness_Area2</th>\n",
              "      <th>Wilderness_Area3</th>\n",
              "      <th>Wilderness_Area4</th>\n",
              "      <th>Soil_Type1</th>\n",
              "      <th>Soil_Type2</th>\n",
              "      <th>Soil_Type3</th>\n",
              "      <th>Soil_Type4</th>\n",
              "      <th>Soil_Type5</th>\n",
              "      <th>Soil_Type6</th>\n",
              "      <th>Soil_Type7</th>\n",
              "      <th>Soil_Type8</th>\n",
              "      <th>Soil_Type9</th>\n",
              "      <th>Soil_Type10</th>\n",
              "      <th>Soil_Type11</th>\n",
              "      <th>Soil_Type12</th>\n",
              "      <th>Soil_Type13</th>\n",
              "      <th>Soil_Type14</th>\n",
              "      <th>Soil_Type15</th>\n",
              "      <th>Soil_Type16</th>\n",
              "      <th>Soil_Type17</th>\n",
              "      <th>Soil_Type18</th>\n",
              "      <th>Soil_Type19</th>\n",
              "      <th>Soil_Type20</th>\n",
              "      <th>Soil_Type21</th>\n",
              "      <th>Soil_Type22</th>\n",
              "      <th>Soil_Type23</th>\n",
              "      <th>Soil_Type24</th>\n",
              "      <th>Soil_Type25</th>\n",
              "      <th>Soil_Type26</th>\n",
              "      <th>Soil_Type27</th>\n",
              "      <th>Soil_Type28</th>\n",
              "      <th>Soil_Type29</th>\n",
              "      <th>Soil_Type30</th>\n",
              "      <th>Soil_Type31</th>\n",
              "      <th>Soil_Type32</th>\n",
              "      <th>Soil_Type33</th>\n",
              "      <th>Soil_Type34</th>\n",
              "      <th>Soil_Type35</th>\n",
              "      <th>Soil_Type36</th>\n",
              "      <th>Soil_Type37</th>\n",
              "      <th>Soil_Type38</th>\n",
              "      <th>Soil_Type39</th>\n",
              "      <th>Soil_Type40</th>\n",
              "      <th>Cover_Type</th>\n",
              "    </tr>\n",
              "  </thead>\n",
              "  <tbody>\n",
              "  </tbody>\n",
              "</table>\n",
              "</div>"
            ],
            "text/plain": [
              "Empty DataFrame\n",
              "Columns: [Elevation, Aspect, Slope, Horizontal_Distance_To_Hydrology, Vertical_Distance_To_Hydrology, Horizontal_Distance_To_Roadways, Hillshade_9am, Hillshade_Noon, Hillshade_3pm, Horizontal_Distance_To_Fire_Points, Wilderness_Area1, Wilderness_Area2, Wilderness_Area3, Wilderness_Area4, Soil_Type1, Soil_Type2, Soil_Type3, Soil_Type4, Soil_Type5, Soil_Type6, Soil_Type7, Soil_Type8, Soil_Type9, Soil_Type10, Soil_Type11, Soil_Type12, Soil_Type13, Soil_Type14, Soil_Type15, Soil_Type16, Soil_Type17, Soil_Type18, Soil_Type19, Soil_Type20, Soil_Type21, Soil_Type22, Soil_Type23, Soil_Type24, Soil_Type25, Soil_Type26, Soil_Type27, Soil_Type28, Soil_Type29, Soil_Type30, Soil_Type31, Soil_Type32, Soil_Type33, Soil_Type34, Soil_Type35, Soil_Type36, Soil_Type37, Soil_Type38, Soil_Type39, Soil_Type40, Cover_Type]\n",
              "Index: []"
            ]
          },
          "metadata": {
            "tags": []
          },
          "execution_count": 6
        }
      ]
    },
    {
      "cell_type": "code",
      "metadata": {
        "colab": {
          "base_uri": "https://localhost:8080/"
        },
        "id": "pzHB-rl5YAok",
        "outputId": "a4e6ae91-0c4a-4a48-fde5-ffc7a1905432"
      },
      "source": [
        "data.isnull().sum()"
      ],
      "execution_count": 7,
      "outputs": [
        {
          "output_type": "execute_result",
          "data": {
            "text/plain": [
              "Elevation                             0\n",
              "Aspect                                0\n",
              "Slope                                 0\n",
              "Horizontal_Distance_To_Hydrology      0\n",
              "Vertical_Distance_To_Hydrology        0\n",
              "Horizontal_Distance_To_Roadways       0\n",
              "Hillshade_9am                         0\n",
              "Hillshade_Noon                        0\n",
              "Hillshade_3pm                         0\n",
              "Horizontal_Distance_To_Fire_Points    0\n",
              "Wilderness_Area1                      0\n",
              "Wilderness_Area2                      0\n",
              "Wilderness_Area3                      0\n",
              "Wilderness_Area4                      0\n",
              "Soil_Type1                            0\n",
              "Soil_Type2                            0\n",
              "Soil_Type3                            0\n",
              "Soil_Type4                            0\n",
              "Soil_Type5                            0\n",
              "Soil_Type6                            0\n",
              "Soil_Type7                            0\n",
              "Soil_Type8                            0\n",
              "Soil_Type9                            0\n",
              "Soil_Type10                           0\n",
              "Soil_Type11                           0\n",
              "Soil_Type12                           0\n",
              "Soil_Type13                           0\n",
              "Soil_Type14                           0\n",
              "Soil_Type15                           0\n",
              "Soil_Type16                           0\n",
              "Soil_Type17                           0\n",
              "Soil_Type18                           0\n",
              "Soil_Type19                           0\n",
              "Soil_Type20                           0\n",
              "Soil_Type21                           0\n",
              "Soil_Type22                           0\n",
              "Soil_Type23                           0\n",
              "Soil_Type24                           0\n",
              "Soil_Type25                           0\n",
              "Soil_Type26                           0\n",
              "Soil_Type27                           0\n",
              "Soil_Type28                           0\n",
              "Soil_Type29                           0\n",
              "Soil_Type30                           0\n",
              "Soil_Type31                           0\n",
              "Soil_Type32                           0\n",
              "Soil_Type33                           0\n",
              "Soil_Type34                           0\n",
              "Soil_Type35                           0\n",
              "Soil_Type36                           0\n",
              "Soil_Type37                           0\n",
              "Soil_Type38                           0\n",
              "Soil_Type39                           0\n",
              "Soil_Type40                           0\n",
              "Cover_Type                            0\n",
              "dtype: int64"
            ]
          },
          "metadata": {
            "tags": []
          },
          "execution_count": 7
        }
      ]
    },
    {
      "cell_type": "markdown",
      "metadata": {
        "id": "cx9t10fCFOvX"
      },
      "source": [
        "# **Exploratory Data Analysis**"
      ]
    },
    {
      "cell_type": "code",
      "metadata": {
        "colab": {
          "base_uri": "https://localhost:8080/"
        },
        "id": "jiL-taWJMKkn",
        "outputId": "70a11333-5c99-4c16-b1f7-31b26893d1ac"
      },
      "source": [
        "data['Cover_Type']=data['Cover_Type']-1\n",
        "data['Cover_Type'].value_counts()"
      ],
      "execution_count": 8,
      "outputs": [
        {
          "output_type": "execute_result",
          "data": {
            "text/plain": [
              "1    283301\n",
              "0    211840\n",
              "2     35754\n",
              "6     20510\n",
              "5     17367\n",
              "4      9493\n",
              "3      2747\n",
              "Name: Cover_Type, dtype: int64"
            ]
          },
          "metadata": {
            "tags": []
          },
          "execution_count": 8
        }
      ]
    },
    {
      "cell_type": "code",
      "metadata": {
        "colab": {
          "base_uri": "https://localhost:8080/"
        },
        "id": "gzfjF08QB6kN",
        "outputId": "4605cc5d-5ea0-4bd8-ebae-55aaa9c9b1ff"
      },
      "source": [
        "data.Cover_Type.unique()"
      ],
      "execution_count": 9,
      "outputs": [
        {
          "output_type": "execute_result",
          "data": {
            "text/plain": [
              "array([4, 1, 0, 6, 2, 5, 3])"
            ]
          },
          "metadata": {
            "tags": []
          },
          "execution_count": 9
        }
      ]
    },
    {
      "cell_type": "code",
      "metadata": {
        "colab": {
          "base_uri": "https://localhost:8080/",
          "height": 280
        },
        "id": "lHmG6uu7NprM",
        "outputId": "7e249b05-73d9-42a3-9e67-74ef96171c27"
      },
      "source": [
        "ax = sns.countplot(x=\"Cover_Type\", data=data)"
      ],
      "execution_count": 10,
      "outputs": [
        {
          "output_type": "display_data",
          "data": {
            "image/png": "[encoded data removed]",
            "text/plain": [
              "<Figure size 432x288 with 1 Axes>"
            ]
          },
          "metadata": {
            "tags": [],
            "needs_background": "light"
          }
        }
      ]
    },
    {
      "cell_type": "code",
      "metadata": {
        "colab": {
          "base_uri": "https://localhost:8080/"
        },
        "id": "IEwfuNRcN2n8",
        "outputId": "06c306bb-61ee-4a83-daad-7089bb74e847"
      },
      "source": [
        "data.corr()[\"Cover_Type\"]"
      ],
      "execution_count": 11,
      "outputs": [
        {
          "output_type": "execute_result",
          "data": {
            "text/plain": [
              "Elevation                            -0.269554\n",
              "Aspect                                0.017080\n",
              "Slope                                 0.148285\n",
              "Horizontal_Distance_To_Hydrology     -0.020317\n",
              "Vertical_Distance_To_Hydrology        0.081664\n",
              "Horizontal_Distance_To_Roadways      -0.153450\n",
              "Hillshade_9am                        -0.035415\n",
              "Hillshade_Noon                       -0.096426\n",
              "Hillshade_3pm                        -0.048290\n",
              "Horizontal_Distance_To_Fire_Points   -0.108936\n",
              "Wilderness_Area1                     -0.203913\n",
              "Wilderness_Area2                     -0.048059\n",
              "Wilderness_Area3                      0.066846\n",
              "Wilderness_Area4                      0.323200\n",
              "Soil_Type1                            0.090828\n",
              "Soil_Type2                            0.118135\n",
              "Soil_Type3                            0.068064\n",
              "Soil_Type4                            0.099672\n",
              "Soil_Type5                            0.077890\n",
              "Soil_Type6                            0.112958\n",
              "Soil_Type7                           -0.000496\n",
              "Soil_Type8                           -0.003667\n",
              "Soil_Type9                           -0.006110\n",
              "Soil_Type10                           0.243876\n",
              "Soil_Type11                           0.035379\n",
              "Soil_Type12                          -0.023601\n",
              "Soil_Type13                           0.024404\n",
              "Soil_Type14                           0.065562\n",
              "Soil_Type15                           0.006425\n",
              "Soil_Type16                           0.009844\n",
              "Soil_Type17                           0.090582\n",
              "Soil_Type18                           0.007390\n",
              "Soil_Type19                          -0.036452\n",
              "Soil_Type20                          -0.028665\n",
              "Soil_Type21                          -0.025400\n",
              "Soil_Type22                          -0.141746\n",
              "Soil_Type23                          -0.135055\n",
              "Soil_Type24                          -0.068746\n",
              "Soil_Type25                          -0.006449\n",
              "Soil_Type26                          -0.000375\n",
              "Soil_Type27                          -0.014407\n",
              "Soil_Type28                          -0.001702\n",
              "Soil_Type29                          -0.124933\n",
              "Soil_Type30                          -0.010436\n",
              "Soil_Type31                          -0.065347\n",
              "Soil_Type32                          -0.075562\n",
              "Soil_Type33                          -0.062502\n",
              "Soil_Type34                           0.004643\n",
              "Soil_Type35                           0.080315\n",
              "Soil_Type36                           0.025397\n",
              "Soil_Type37                           0.080271\n",
              "Soil_Type38                           0.160170\n",
              "Soil_Type39                           0.155668\n",
              "Soil_Type40                           0.128351\n",
              "Cover_Type                            1.000000\n",
              "Name: Cover_Type, dtype: float64"
            ]
          },
          "metadata": {
            "tags": []
          },
          "execution_count": 11
        }
      ]
    },
    {
      "cell_type": "code",
      "metadata": {
        "colab": {
          "base_uri": "https://localhost:8080/",
          "height": 340
        },
        "id": "wPD1z-RTCHV_",
        "outputId": "338c4d3e-76b3-4501-c701-7397878f441e"
      },
      "source": [
        "plt.hist(data[\"Cover_Type\"])\n"
      ],
      "execution_count": 12,
      "outputs": [
        {
          "output_type": "execute_result",
          "data": {
            "text/plain": [
              "(array([211840., 283301.,      0.,  35754.,      0.,   2747.,   9493.,\n",
              "             0.,  17367.,  20510.]),\n",
              " array([0. , 0.6, 1.2, 1.8, 2.4, 3. , 3.6, 4.2, 4.8, 5.4, 6. ]),\n",
              " <a list of 10 Patch objects>)"
            ]
          },
          "metadata": {
            "tags": []
          },
          "execution_count": 12
        },
        {
          "output_type": "display_data",
          "data": {
            "image/png": "[encoded data removed]",
            "text/plain": [
              "<Figure size 432x288 with 1 Axes>"
            ]
          },
          "metadata": {
            "tags": [],
            "needs_background": "light"
          }
        }
      ]
    },
    {
      "cell_type": "code",
      "metadata": {
        "colab": {
          "base_uri": "https://localhost:8080/",
          "height": 447
        },
        "id": "kLkLaMrSCMji",
        "outputId": "33bc10d6-9b80-48b6-9c60-b9082eae57e1"
      },
      "source": [
        "data.corr()[\"Cover_Type\"].plot(kind=\"bar\")\n"
      ],
      "execution_count": 13,
      "outputs": [
        {
          "output_type": "execute_result",
          "data": {
            "text/plain": [
              "<matplotlib.axes._subplots.AxesSubplot at 0x7fee67c77bd0>"
            ]
          },
          "metadata": {
            "tags": []
          },
          "execution_count": 13
        },
        {
          "output_type": "display_data",
          "data": {
            "image/png": "[encoded data removed]",
            "text/plain": [
              "<Figure size 432x288 with 1 Axes>"
            ]
          },
          "metadata": {
            "tags": [],
            "needs_background": "light"
          }
        }
      ]
    },
    {
      "cell_type": "code",
      "metadata": {
        "colab": {
          "base_uri": "https://localhost:8080/",
          "height": 226
        },
        "id": "AqZhabG0XvQm",
        "outputId": "57f9ab0d-0821-4c92-c0d6-b52b0599f251"
      },
      "source": [
        "df1=data.iloc[:,0:14]\n",
        "df2=data['Cover_Type']\n",
        "df1=df1.join(df2)\n",
        "df1.head()"
      ],
      "execution_count": 14,
      "outputs": [
        {
          "output_type": "execute_result",
          "data": {
            "text/html": [
              "<div>\n",
              "<style scoped>\n",
              "    .dataframe tbody tr th:only-of-type {\n",
              "        vertical-align: middle;\n",
              "    }\n",
              "\n",
              "    .dataframe tbody tr th {\n",
              "        vertical-align: top;\n",
              "    }\n",
              "\n",
              "    .dataframe thead th {\n",
              "        text-align: right;\n",
              "    }\n",
              "</style>\n",
              "<table border=\"1\" class=\"dataframe\">\n",
              "  <thead>\n",
              "    <tr style=\"text-align: right;\">\n",
              "      <th></th>\n",
              "      <th>Elevation</th>\n",
              "      <th>Aspect</th>\n",
              "      <th>Slope</th>\n",
              "      <th>Horizontal_Distance_To_Hydrology</th>\n",
              "      <th>Vertical_Distance_To_Hydrology</th>\n",
              "      <th>Horizontal_Distance_To_Roadways</th>\n",
              "      <th>Hillshade_9am</th>\n",
              "      <th>Hillshade_Noon</th>\n",
              "      <th>Hillshade_3pm</th>\n",
              "      <th>Horizontal_Distance_To_Fire_Points</th>\n",
              "      <th>Wilderness_Area1</th>\n",
              "      <th>Wilderness_Area2</th>\n",
              "      <th>Wilderness_Area3</th>\n",
              "      <th>Wilderness_Area4</th>\n",
              "      <th>Cover_Type</th>\n",
              "    </tr>\n",
              "  </thead>\n",
              "  <tbody>\n",
              "    <tr>\n",
              "      <th>0</th>\n",
              "      <td>2596</td>\n",
              "      <td>51</td>\n",
              "      <td>3</td>\n",
              "      <td>258</td>\n",
              "      <td>0</td>\n",
              "      <td>510</td>\n",
              "      <td>221</td>\n",
              "      <td>232</td>\n",
              "      <td>148</td>\n",
              "      <td>6279</td>\n",
              "      <td>1</td>\n",
              "      <td>0</td>\n",
              "      <td>0</td>\n",
              "      <td>0</td>\n",
              "      <td>4</td>\n",
              "    </tr>\n",
              "    <tr>\n",
              "      <th>1</th>\n",
              "      <td>2590</td>\n",
              "      <td>56</td>\n",
              "      <td>2</td>\n",
              "      <td>212</td>\n",
              "      <td>-6</td>\n",
              "      <td>390</td>\n",
              "      <td>220</td>\n",
              "      <td>235</td>\n",
              "      <td>151</td>\n",
              "      <td>6225</td>\n",
              "      <td>1</td>\n",
              "      <td>0</td>\n",
              "      <td>0</td>\n",
              "      <td>0</td>\n",
              "      <td>4</td>\n",
              "    </tr>\n",
              "    <tr>\n",
              "      <th>2</th>\n",
              "      <td>2804</td>\n",
              "      <td>139</td>\n",
              "      <td>9</td>\n",
              "      <td>268</td>\n",
              "      <td>65</td>\n",
              "      <td>3180</td>\n",
              "      <td>234</td>\n",
              "      <td>238</td>\n",
              "      <td>135</td>\n",
              "      <td>6121</td>\n",
              "      <td>1</td>\n",
              "      <td>0</td>\n",
              "      <td>0</td>\n",
              "      <td>0</td>\n",
              "      <td>1</td>\n",
              "    </tr>\n",
              "    <tr>\n",
              "      <th>3</th>\n",
              "      <td>2785</td>\n",
              "      <td>155</td>\n",
              "      <td>18</td>\n",
              "      <td>242</td>\n",
              "      <td>118</td>\n",
              "      <td>3090</td>\n",
              "      <td>238</td>\n",
              "      <td>238</td>\n",
              "      <td>122</td>\n",
              "      <td>6211</td>\n",
              "      <td>1</td>\n",
              "      <td>0</td>\n",
              "      <td>0</td>\n",
              "      <td>0</td>\n",
              "      <td>1</td>\n",
              "    </tr>\n",
              "    <tr>\n",
              "      <th>4</th>\n",
              "      <td>2595</td>\n",
              "      <td>45</td>\n",
              "      <td>2</td>\n",
              "      <td>153</td>\n",
              "      <td>-1</td>\n",
              "      <td>391</td>\n",
              "      <td>220</td>\n",
              "      <td>234</td>\n",
              "      <td>150</td>\n",
              "      <td>6172</td>\n",
              "      <td>1</td>\n",
              "      <td>0</td>\n",
              "      <td>0</td>\n",
              "      <td>0</td>\n",
              "      <td>4</td>\n",
              "    </tr>\n",
              "  </tbody>\n",
              "</table>\n",
              "</div>"
            ],
            "text/plain": [
              "   Elevation  Aspect  Slope  ...  Wilderness_Area3  Wilderness_Area4  Cover_Type\n",
              "0       2596      51      3  ...                 0                 0           4\n",
              "1       2590      56      2  ...                 0                 0           4\n",
              "2       2804     139      9  ...                 0                 0           1\n",
              "3       2785     155     18  ...                 0                 0           1\n",
              "4       2595      45      2  ...                 0                 0           4\n",
              "\n",
              "[5 rows x 15 columns]"
            ]
          },
          "metadata": {
            "tags": []
          },
          "execution_count": 14
        }
      ]
    },
    {
      "cell_type": "code",
      "metadata": {
        "colab": {
          "base_uri": "https://localhost:8080/",
          "height": 540
        },
        "id": "KTgVtEUzQ-Ni",
        "outputId": "139feac3-8b00-4463-f8d1-a27c4d46815e"
      },
      "source": [
        "df1.corr()"
      ],
      "execution_count": 15,
      "outputs": [
        {
          "output_type": "execute_result",
          "data": {
            "text/html": [
              "<div>\n",
              "<style scoped>\n",
              "    .dataframe tbody tr th:only-of-type {\n",
              "        vertical-align: middle;\n",
              "    }\n",
              "\n",
              "    .dataframe tbody tr th {\n",
              "        vertical-align: top;\n",
              "    }\n",
              "\n",
              "    .dataframe thead th {\n",
              "        text-align: right;\n",
              "    }\n",
              "</style>\n",
              "<table border=\"1\" class=\"dataframe\">\n",
              "  <thead>\n",
              "    <tr style=\"text-align: right;\">\n",
              "      <th></th>\n",
              "      <th>Elevation</th>\n",
              "      <th>Aspect</th>\n",
              "      <th>Slope</th>\n",
              "      <th>Horizontal_Distance_To_Hydrology</th>\n",
              "      <th>Vertical_Distance_To_Hydrology</th>\n",
              "      <th>Horizontal_Distance_To_Roadways</th>\n",
              "      <th>Hillshade_9am</th>\n",
              "      <th>Hillshade_Noon</th>\n",
              "      <th>Hillshade_3pm</th>\n",
              "      <th>Horizontal_Distance_To_Fire_Points</th>\n",
              "      <th>Wilderness_Area1</th>\n",
              "      <th>Wilderness_Area2</th>\n",
              "      <th>Wilderness_Area3</th>\n",
              "      <th>Wilderness_Area4</th>\n",
              "      <th>Cover_Type</th>\n",
              "    </tr>\n",
              "  </thead>\n",
              "  <tbody>\n",
              "    <tr>\n",
              "      <th>Elevation</th>\n",
              "      <td>1.000000</td>\n",
              "      <td>0.015735</td>\n",
              "      <td>-0.242697</td>\n",
              "      <td>0.306229</td>\n",
              "      <td>0.093306</td>\n",
              "      <td>0.365559</td>\n",
              "      <td>0.112179</td>\n",
              "      <td>0.205887</td>\n",
              "      <td>0.059148</td>\n",
              "      <td>0.148022</td>\n",
              "      <td>0.131838</td>\n",
              "      <td>0.238164</td>\n",
              "      <td>0.066550</td>\n",
              "      <td>-0.619374</td>\n",
              "      <td>-0.269554</td>\n",
              "    </tr>\n",
              "    <tr>\n",
              "      <th>Aspect</th>\n",
              "      <td>0.015735</td>\n",
              "      <td>1.000000</td>\n",
              "      <td>0.078728</td>\n",
              "      <td>0.017376</td>\n",
              "      <td>0.070305</td>\n",
              "      <td>0.025121</td>\n",
              "      <td>-0.579273</td>\n",
              "      <td>0.336103</td>\n",
              "      <td>0.646944</td>\n",
              "      <td>-0.109172</td>\n",
              "      <td>-0.140123</td>\n",
              "      <td>0.055988</td>\n",
              "      <td>0.074904</td>\n",
              "      <td>0.082687</td>\n",
              "      <td>0.017080</td>\n",
              "    </tr>\n",
              "    <tr>\n",
              "      <th>Slope</th>\n",
              "      <td>-0.242697</td>\n",
              "      <td>0.078728</td>\n",
              "      <td>1.000000</td>\n",
              "      <td>-0.010607</td>\n",
              "      <td>0.274976</td>\n",
              "      <td>-0.215914</td>\n",
              "      <td>-0.327199</td>\n",
              "      <td>-0.526911</td>\n",
              "      <td>-0.175854</td>\n",
              "      <td>-0.185662</td>\n",
              "      <td>-0.234576</td>\n",
              "      <td>-0.036253</td>\n",
              "      <td>0.125663</td>\n",
              "      <td>0.255503</td>\n",
              "      <td>0.148285</td>\n",
              "    </tr>\n",
              "    <tr>\n",
              "      <th>Horizontal_Distance_To_Hydrology</th>\n",
              "      <td>0.306229</td>\n",
              "      <td>0.017376</td>\n",
              "      <td>-0.010607</td>\n",
              "      <td>1.000000</td>\n",
              "      <td>0.606236</td>\n",
              "      <td>0.072030</td>\n",
              "      <td>-0.027088</td>\n",
              "      <td>0.046790</td>\n",
              "      <td>0.052330</td>\n",
              "      <td>0.051874</td>\n",
              "      <td>-0.097124</td>\n",
              "      <td>0.055726</td>\n",
              "      <td>0.122028</td>\n",
              "      <td>-0.100433</td>\n",
              "      <td>-0.020317</td>\n",
              "    </tr>\n",
              "    <tr>\n",
              "      <th>Vertical_Distance_To_Hydrology</th>\n",
              "      <td>0.093306</td>\n",
              "      <td>0.070305</td>\n",
              "      <td>0.274976</td>\n",
              "      <td>0.606236</td>\n",
              "      <td>1.000000</td>\n",
              "      <td>-0.046372</td>\n",
              "      <td>-0.166333</td>\n",
              "      <td>-0.110957</td>\n",
              "      <td>0.034902</td>\n",
              "      <td>-0.069913</td>\n",
              "      <td>-0.180710</td>\n",
              "      <td>-0.008709</td>\n",
              "      <td>0.146839</td>\n",
              "      <td>0.077792</td>\n",
              "      <td>0.081664</td>\n",
              "    </tr>\n",
              "    <tr>\n",
              "      <th>Horizontal_Distance_To_Roadways</th>\n",
              "      <td>0.365559</td>\n",
              "      <td>0.025121</td>\n",
              "      <td>-0.215914</td>\n",
              "      <td>0.072030</td>\n",
              "      <td>-0.046372</td>\n",
              "      <td>1.000000</td>\n",
              "      <td>0.034349</td>\n",
              "      <td>0.189461</td>\n",
              "      <td>0.106119</td>\n",
              "      <td>0.331580</td>\n",
              "      <td>0.453913</td>\n",
              "      <td>-0.200411</td>\n",
              "      <td>-0.232933</td>\n",
              "      <td>-0.270349</td>\n",
              "      <td>-0.153450</td>\n",
              "    </tr>\n",
              "    <tr>\n",
              "      <th>Hillshade_9am</th>\n",
              "      <td>0.112179</td>\n",
              "      <td>-0.579273</td>\n",
              "      <td>-0.327199</td>\n",
              "      <td>-0.027088</td>\n",
              "      <td>-0.166333</td>\n",
              "      <td>0.034349</td>\n",
              "      <td>1.000000</td>\n",
              "      <td>0.010037</td>\n",
              "      <td>-0.780296</td>\n",
              "      <td>0.132669</td>\n",
              "      <td>0.201299</td>\n",
              "      <td>-0.006181</td>\n",
              "      <td>-0.100565</td>\n",
              "      <td>-0.200282</td>\n",
              "      <td>-0.035415</td>\n",
              "    </tr>\n",
              "    <tr>\n",
              "      <th>Hillshade_Noon</th>\n",
              "      <td>0.205887</td>\n",
              "      <td>0.336103</td>\n",
              "      <td>-0.526911</td>\n",
              "      <td>0.046790</td>\n",
              "      <td>-0.110957</td>\n",
              "      <td>0.189461</td>\n",
              "      <td>0.010037</td>\n",
              "      <td>1.000000</td>\n",
              "      <td>0.594274</td>\n",
              "      <td>0.057329</td>\n",
              "      <td>0.028728</td>\n",
              "      <td>0.042392</td>\n",
              "      <td>0.048646</td>\n",
              "      <td>-0.195733</td>\n",
              "      <td>-0.096426</td>\n",
              "    </tr>\n",
              "    <tr>\n",
              "      <th>Hillshade_3pm</th>\n",
              "      <td>0.059148</td>\n",
              "      <td>0.646944</td>\n",
              "      <td>-0.175854</td>\n",
              "      <td>0.052330</td>\n",
              "      <td>0.034902</td>\n",
              "      <td>0.106119</td>\n",
              "      <td>-0.780296</td>\n",
              "      <td>0.594274</td>\n",
              "      <td>1.000000</td>\n",
              "      <td>-0.047981</td>\n",
              "      <td>-0.115155</td>\n",
              "      <td>0.034707</td>\n",
              "      <td>0.090757</td>\n",
              "      <td>0.018860</td>\n",
              "      <td>-0.048290</td>\n",
              "    </tr>\n",
              "    <tr>\n",
              "      <th>Horizontal_Distance_To_Fire_Points</th>\n",
              "      <td>0.148022</td>\n",
              "      <td>-0.109172</td>\n",
              "      <td>-0.185662</td>\n",
              "      <td>0.051874</td>\n",
              "      <td>-0.069913</td>\n",
              "      <td>0.331580</td>\n",
              "      <td>0.132669</td>\n",
              "      <td>0.057329</td>\n",
              "      <td>-0.047981</td>\n",
              "      <td>1.000000</td>\n",
              "      <td>0.380568</td>\n",
              "      <td>0.027473</td>\n",
              "      <td>-0.277510</td>\n",
              "      <td>-0.236548</td>\n",
              "      <td>-0.108936</td>\n",
              "    </tr>\n",
              "    <tr>\n",
              "      <th>Wilderness_Area1</th>\n",
              "      <td>0.131838</td>\n",
              "      <td>-0.140123</td>\n",
              "      <td>-0.234576</td>\n",
              "      <td>-0.097124</td>\n",
              "      <td>-0.180710</td>\n",
              "      <td>0.453913</td>\n",
              "      <td>0.201299</td>\n",
              "      <td>0.028728</td>\n",
              "      <td>-0.115155</td>\n",
              "      <td>0.380568</td>\n",
              "      <td>1.000000</td>\n",
              "      <td>-0.210146</td>\n",
              "      <td>-0.793593</td>\n",
              "      <td>-0.235247</td>\n",
              "      <td>-0.203913</td>\n",
              "    </tr>\n",
              "    <tr>\n",
              "      <th>Wilderness_Area2</th>\n",
              "      <td>0.238164</td>\n",
              "      <td>0.055988</td>\n",
              "      <td>-0.036253</td>\n",
              "      <td>0.055726</td>\n",
              "      <td>-0.008709</td>\n",
              "      <td>-0.200411</td>\n",
              "      <td>-0.006181</td>\n",
              "      <td>0.042392</td>\n",
              "      <td>0.034707</td>\n",
              "      <td>0.027473</td>\n",
              "      <td>-0.210146</td>\n",
              "      <td>1.000000</td>\n",
              "      <td>-0.204768</td>\n",
              "      <td>-0.060700</td>\n",
              "      <td>-0.048059</td>\n",
              "    </tr>\n",
              "    <tr>\n",
              "      <th>Wilderness_Area3</th>\n",
              "      <td>0.066550</td>\n",
              "      <td>0.074904</td>\n",
              "      <td>0.125663</td>\n",
              "      <td>0.122028</td>\n",
              "      <td>0.146839</td>\n",
              "      <td>-0.232933</td>\n",
              "      <td>-0.100565</td>\n",
              "      <td>0.048646</td>\n",
              "      <td>0.090757</td>\n",
              "      <td>-0.277510</td>\n",
              "      <td>-0.793593</td>\n",
              "      <td>-0.204768</td>\n",
              "      <td>1.000000</td>\n",
              "      <td>-0.229226</td>\n",
              "      <td>0.066846</td>\n",
              "    </tr>\n",
              "    <tr>\n",
              "      <th>Wilderness_Area4</th>\n",
              "      <td>-0.619374</td>\n",
              "      <td>0.082687</td>\n",
              "      <td>0.255503</td>\n",
              "      <td>-0.100433</td>\n",
              "      <td>0.077792</td>\n",
              "      <td>-0.270349</td>\n",
              "      <td>-0.200282</td>\n",
              "      <td>-0.195733</td>\n",
              "      <td>0.018860</td>\n",
              "      <td>-0.236548</td>\n",
              "      <td>-0.235247</td>\n",
              "      <td>-0.060700</td>\n",
              "      <td>-0.229226</td>\n",
              "      <td>1.000000</td>\n",
              "      <td>0.323200</td>\n",
              "    </tr>\n",
              "    <tr>\n",
              "      <th>Cover_Type</th>\n",
              "      <td>-0.269554</td>\n",
              "      <td>0.017080</td>\n",
              "      <td>0.148285</td>\n",
              "      <td>-0.020317</td>\n",
              "      <td>0.081664</td>\n",
              "      <td>-0.153450</td>\n",
              "      <td>-0.035415</td>\n",
              "      <td>-0.096426</td>\n",
              "      <td>-0.048290</td>\n",
              "      <td>-0.108936</td>\n",
              "      <td>-0.203913</td>\n",
              "      <td>-0.048059</td>\n",
              "      <td>0.066846</td>\n",
              "      <td>0.323200</td>\n",
              "      <td>1.000000</td>\n",
              "    </tr>\n",
              "  </tbody>\n",
              "</table>\n",
              "</div>"
            ],
            "text/plain": [
              "                                    Elevation  ...  Cover_Type\n",
              "Elevation                            1.000000  ...   -0.269554\n",
              "Aspect                               0.015735  ...    0.017080\n",
              "Slope                               -0.242697  ...    0.148285\n",
              "Horizontal_Distance_To_Hydrology     0.306229  ...   -0.020317\n",
              "Vertical_Distance_To_Hydrology       0.093306  ...    0.081664\n",
              "Horizontal_Distance_To_Roadways      0.365559  ...   -0.153450\n",
              "Hillshade_9am                        0.112179  ...   -0.035415\n",
              "Hillshade_Noon                       0.205887  ...   -0.096426\n",
              "Hillshade_3pm                        0.059148  ...   -0.048290\n",
              "Horizontal_Distance_To_Fire_Points   0.148022  ...   -0.108936\n",
              "Wilderness_Area1                     0.131838  ...   -0.203913\n",
              "Wilderness_Area2                     0.238164  ...   -0.048059\n",
              "Wilderness_Area3                     0.066550  ...    0.066846\n",
              "Wilderness_Area4                    -0.619374  ...    0.323200\n",
              "Cover_Type                          -0.269554  ...    1.000000\n",
              "\n",
              "[15 rows x 15 columns]"
            ]
          },
          "metadata": {
            "tags": []
          },
          "execution_count": 15
        }
      ]
    },
    {
      "cell_type": "code",
      "metadata": {
        "colab": {
          "base_uri": "https://localhost:8080/",
          "height": 743
        },
        "id": "br7BmtlyTyIZ",
        "outputId": "f525a280-67a4-4e95-f787-daa44e5f5fcc"
      },
      "source": [
        "fig = plt.subplots(figsize=(10,10))\n",
        "sns.heatmap(df1.corr(),vmax=0.5,square=True,annot=True,cmap='Blues')\n",
        "plt.xticks(rotation=90)\n",
        "plt.yticks(rotation=0)"
      ],
      "execution_count": 16,
      "outputs": [
        {
          "output_type": "execute_result",
          "data": {
            "text/plain": [
              "(array([ 0.5,  1.5,  2.5,  3.5,  4.5,  5.5,  6.5,  7.5,  8.5,  9.5, 10.5,\n",
              "        11.5, 12.5, 13.5, 14.5]), <a list of 15 Text major ticklabel objects>)"
            ]
          },
          "metadata": {
            "tags": []
          },
          "execution_count": 16
        },
        {
          "output_type": "display_data",
          "data": {
            "image/png": "[encoded data removed]",
            "text/plain": [
              "<Figure size 720x720 with 2 Axes>"
            ]
          },
          "metadata": {
            "tags": [],
            "needs_background": "light"
          }
        }
      ]
    },
    {
      "cell_type": "code",
      "metadata": {
        "colab": {
          "base_uri": "https://localhost:8080/",
          "height": 299
        },
        "id": "OP1_P9kkUi6K",
        "outputId": "c792e7d9-d214-49ca-a844-ad62908d84e2"
      },
      "source": [
        "fig,axs=plt.subplots(ncols=3)\n",
        "sns.boxplot(x='Cover_Type',y='Elevation',data=data,ax=axs[0])#highest in 1 & 7 lowest in 4\n",
        "sns.boxplot(x='Cover_Type',y='Aspect',data=data,ax=axs[1])\n",
        "sns.boxplot(x='Cover_Type',y='Slope',data=data,ax=axs[2])"
      ],
      "execution_count": 17,
      "outputs": [
        {
          "output_type": "execute_result",
          "data": {
            "text/plain": [
              "<matplotlib.axes._subplots.AxesSubplot at 0x7fee5d221250>"
            ]
          },
          "metadata": {
            "tags": []
          },
          "execution_count": 17
        },
        {
          "output_type": "display_data",
          "data": {
            "image/png": "[encoded data removed]",
            "text/plain": [
              "<Figure size 432x288 with 3 Axes>"
            ]
          },
          "metadata": {
            "tags": [],
            "needs_background": "light"
          }
        }
      ]
    },
    {
      "cell_type": "markdown",
      "metadata": {
        "id": "K2J09y_xdZr3"
      },
      "source": [
        "# **RANDOM FOREST CLASSIFIER WITH HYPERPARAMETER TUNING**"
      ]
    },
    {
      "cell_type": "code",
      "metadata": {
        "id": "UUbmWQ09gyKJ"
      },
      "source": [
        "X=data.drop('Cover_Type',axis=1)\n",
        "y=data['Cover_Type']"
      ],
      "execution_count": 18,
      "outputs": []
    },
    {
      "cell_type": "code",
      "metadata": {
        "id": "1irLmafKc9aZ"
      },
      "source": [
        "X_train, X_test, y_train, y_test = train_test_split(X, y,test_size=0.2,random_state=42)\n",
        "train_df, cv_df, y_train, y_cv = train_test_split(X_train, y_train, stratify=y_train, test_size=0.2)"
      ],
      "execution_count": 19,
      "outputs": []
    },
    {
      "cell_type": "code",
      "metadata": {
        "id": "MjCD-7G0HS8r",
        "colab": {
          "base_uri": "https://localhost:8080/"
        },
        "outputId": "6303b481-0b5f-40fd-94a5-a2789b976c3e"
      },
      "source": [
        "alpha = [100,200]\n",
        "max_depth = [5, 10]\n",
        "cv_log_error_array = []\n",
        "for i in alpha:\n",
        "    for j in max_depth:\n",
        "        print(\"for n_estimators =\", i,\"and max depth = \", j)\n",
        "        clf = RandomForestClassifier(n_estimators=i, criterion='gini', max_depth=j, random_state=42, n_jobs=-1)\n",
        "        clf.fit(train_df,y_train)\n",
        "        sig_clf = CalibratedClassifierCV(clf, method=\"sigmoid\")\n",
        "        sig_clf.fit(train_df,y_train)\n",
        "        sig_clf_probs = sig_clf.predict_proba(cv_df)\n",
        "        cv_log_error_array.append(log_loss(y_cv, sig_clf_probs, labels=clf.classes_, eps=1e-15))\n",
        "        print(\"Log Loss :\",log_loss(y_cv, sig_clf_probs)) \n",
        "\n",
        "\n",
        "best_alpha = np.argmin(cv_log_error_array)\n",
        "clf = RandomForestClassifier(n_estimators=alpha[int(best_alpha/2)], criterion='gini', max_depth=max_depth[int(best_alpha%2)], random_state=42, n_jobs=-1)\n",
        "clf.fit(train_df, y_train)\n",
        "sig_clf = CalibratedClassifierCV(clf, method=\"sigmoid\")\n",
        "sig_clf.fit(train_df,y_train)\n",
        "\n",
        "predict_y = sig_clf.predict_proba(train_df)\n",
        "print('For values of best estimator = ', alpha[int(best_alpha/2)], \"The train log loss is:\",log_loss(y_train, predict_y, labels=clf.classes_, eps=1e-15))\n",
        "predict_y = sig_clf.predict_proba(cv_df)\n",
        "print('For values of best estimator = ', alpha[int(best_alpha/2)], \"The cross validation log loss is:\",log_loss(y_cv, predict_y, labels=clf.classes_, eps=1e-15))\n",
        "predict_y = sig_clf.predict_proba(X_test)\n",
        "print('For values of best estimator = ', alpha[int(best_alpha/2)], \"The test log loss is:\",log_loss(y_test, predict_y, labels=clf.classes_, eps=1e-15))"
      ],
      "execution_count": 20,
      "outputs": [
        {
          "output_type": "stream",
          "text": [
            "for n_estimators = 100 and max depth =  5\n",
            "Log Loss : 0.7187198500489698\n",
            "for n_estimators = 100 and max depth =  10\n",
            "Log Loss : 0.5762323951842778\n",
            "for n_estimators = 200 and max depth =  5\n",
            "Log Loss : 0.7172535608005047\n",
            "for n_estimators = 200 and max depth =  10\n",
            "Log Loss : 0.5749723215647523\n",
            "For values of best estimator =  200 The train log loss is: 0.5632287211442593\n",
            "For values of best estimator =  200 The cross validation log loss is: 0.5749723215642829\n",
            "For values of best estimator =  200 The test log loss is: 0.5762818665077413\n"
          ],
          "name": "stdout"
        }
      ]
    },
    {
      "cell_type": "markdown",
      "metadata": {
        "id": "6UO9ySMOwB9d"
      },
      "source": [
        "**Training and Testing the model with best hyperparameter - RF**"
      ]
    },
    {
      "cell_type": "code",
      "metadata": {
        "id": "ZcK3W26bdGKu"
      },
      "source": [
        "clf = RandomForestClassifier(n_estimators=alpha[int(best_alpha/2)], criterion='gini', max_depth=max_depth[int(best_alpha%2)], random_state=42, n_jobs=-1)\n",
        "clf.fit(train_df,y_train)\n",
        "sig_clf = CalibratedClassifierCV(clf, method=\"sigmoid\")\n",
        "sig_clf.fit(train_df,y_train)\n",
        "pred_y = sig_clf.predict(X_test)"
      ],
      "execution_count": 21,
      "outputs": []
    },
    {
      "cell_type": "code",
      "metadata": {
        "id": "obCBCgx_hiw9",
        "colab": {
          "base_uri": "https://localhost:8080/"
        },
        "outputId": "8c3ed8f6-69d4-4768-b06c-396cfc8e10c6"
      },
      "source": [
        "accuracy_score(y_test, pred_y)"
      ],
      "execution_count": 22,
      "outputs": [
        {
          "output_type": "execute_result",
          "data": {
            "text/plain": [
              "0.7605397451012452"
            ]
          },
          "metadata": {
            "tags": []
          },
          "execution_count": 22
        }
      ]
    },
    {
      "cell_type": "code",
      "metadata": {
        "id": "ysezp4ykhi-H",
        "colab": {
          "base_uri": "https://localhost:8080/"
        },
        "outputId": "e42c30f7-ace5-4ea9-9fe3-a3e755e47958"
      },
      "source": [
        "cf_matrix=confusion_matrix(y_test,pred_y)\n",
        "print(cf_matrix)"
      ],
      "execution_count": 23,
      "outputs": [
        {
          "output_type": "stream",
          "text": [
            "[[32167 10009     3     0    36     0   342]\n",
            " [10594 45278   257     5   148   194    24]\n",
            " [    0   935  5804    51     1   330     0]\n",
            " [    0     0   157   352     0    17     0]\n",
            " [   17  1472    16     0   489     1     0]\n",
            " [    0  1083   899    24     0  1483     0]\n",
            " [ 1198    13     0     0     0     0  2804]]\n"
          ],
          "name": "stdout"
        }
      ]
    },
    {
      "cell_type": "code",
      "metadata": {
        "colab": {
          "base_uri": "https://localhost:8080/"
        },
        "id": "ursc4sNcAzw3",
        "outputId": "77a601b0-3408-462d-fc3e-b825718e6d39"
      },
      "source": [
        "print(classification_report(y_test,pred_y))"
      ],
      "execution_count": 24,
      "outputs": [
        {
          "output_type": "stream",
          "text": [
            "              precision    recall  f1-score   support\n",
            "\n",
            "           0       0.73      0.76      0.74     42557\n",
            "           1       0.77      0.80      0.79     56500\n",
            "           2       0.81      0.82      0.81      7121\n",
            "           3       0.81      0.67      0.73       526\n",
            "           4       0.73      0.25      0.37      1995\n",
            "           5       0.73      0.43      0.54      3489\n",
            "           6       0.88      0.70      0.78      4015\n",
            "\n",
            "    accuracy                           0.76    116203\n",
            "   macro avg       0.78      0.63      0.68    116203\n",
            "weighted avg       0.76      0.76      0.76    116203\n",
            "\n"
          ],
          "name": "stdout"
        }
      ]
    },
    {
      "cell_type": "code",
      "metadata": {
        "id": "0SPbw5RmhpZN",
        "colab": {
          "base_uri": "https://localhost:8080/",
          "height": 719
        },
        "outputId": "08e1c885-4b76-47da-e901-495874e23193"
      },
      "source": [
        "f, ax = plt.subplots(figsize=(16, 12))\n",
        "sns.heatmap(cf_matrix,annot=True)"
      ],
      "execution_count": 25,
      "outputs": [
        {
          "output_type": "execute_result",
          "data": {
            "text/plain": [
              "<matplotlib.axes._subplots.AxesSubplot at 0x7fee675f6290>"
            ]
          },
          "metadata": {
            "tags": []
          },
          "execution_count": 25
        },
        {
          "output_type": "display_data",
          "data": {
            "image/png": "[encoded data removed]",
            "text/plain": [
              "<Figure size 1152x864 with 2 Axes>"
            ]
          },
          "metadata": {
            "tags": [],
            "needs_background": "light"
          }
        }
      ]
    },
    {
      "cell_type": "markdown",
      "metadata": {
        "id": "sz5JhRGOFass"
      },
      "source": [
        "# **Standadization**"
      ]
    },
    {
      "cell_type": "code",
      "metadata": {
        "id": "cAJW6dUdP0Lx"
      },
      "source": [
        "X=data.drop('Cover_Type',axis=1)\n",
        "y=data['Cover_Type']"
      ],
      "execution_count": 26,
      "outputs": []
    },
    {
      "cell_type": "code",
      "metadata": {
        "id": "iNMdNFqnbjLd"
      },
      "source": [
        "scaler=StandardScaler()\n",
        "x=pd.DataFrame(scaler.fit_transform(X),columns=X.columns)"
      ],
      "execution_count": 27,
      "outputs": []
    },
    {
      "cell_type": "markdown",
      "metadata": {
        "id": "Yy_AIIgUpYpu"
      },
      "source": [
        "# **Principal Component Analysis**"
      ]
    },
    {
      "cell_type": "code",
      "metadata": {
        "id": "6sfazsBGMo8d"
      },
      "source": [
        "from sklearn.decomposition import PCA\n",
        "pca = PCA(n_components=13)\n",
        "principle=pca.fit_transform(x)\n"
      ],
      "execution_count": 28,
      "outputs": []
    },
    {
      "cell_type": "code",
      "metadata": {
        "id": "iIxTJZU3Rlum",
        "colab": {
          "base_uri": "https://localhost:8080/",
          "height": 206
        },
        "outputId": "d4cf5a5b-0fab-4581-fb3b-0942acb508ff"
      },
      "source": [
        "x=pd.DataFrame(data=principle,columns=['pca1','pca2','pca3','pca4','pca5','pca6','pca7','pca8','pca9','pca10','pca11','pca12','pca13'])\n",
        "x.head()"
      ],
      "execution_count": 29,
      "outputs": [
        {
          "output_type": "execute_result",
          "data": {
            "text/html": [
              "<div>\n",
              "<style scoped>\n",
              "    .dataframe tbody tr th:only-of-type {\n",
              "        vertical-align: middle;\n",
              "    }\n",
              "\n",
              "    .dataframe tbody tr th {\n",
              "        vertical-align: top;\n",
              "    }\n",
              "\n",
              "    .dataframe thead th {\n",
              "        text-align: right;\n",
              "    }\n",
              "</style>\n",
              "<table border=\"1\" class=\"dataframe\">\n",
              "  <thead>\n",
              "    <tr style=\"text-align: right;\">\n",
              "      <th></th>\n",
              "      <th>pca1</th>\n",
              "      <th>pca2</th>\n",
              "      <th>pca3</th>\n",
              "      <th>pca4</th>\n",
              "      <th>pca5</th>\n",
              "      <th>pca6</th>\n",
              "      <th>pca7</th>\n",
              "      <th>pca8</th>\n",
              "      <th>pca9</th>\n",
              "      <th>pca10</th>\n",
              "      <th>pca11</th>\n",
              "      <th>pca12</th>\n",
              "      <th>pca13</th>\n",
              "    </tr>\n",
              "  </thead>\n",
              "  <tbody>\n",
              "    <tr>\n",
              "      <th>0</th>\n",
              "      <td>-2.441809</td>\n",
              "      <td>1.289841</td>\n",
              "      <td>-0.865162</td>\n",
              "      <td>-0.286480</td>\n",
              "      <td>-0.865904</td>\n",
              "      <td>0.677715</td>\n",
              "      <td>0.551218</td>\n",
              "      <td>-0.287169</td>\n",
              "      <td>1.319631</td>\n",
              "      <td>-0.134415</td>\n",
              "      <td>0.187358</td>\n",
              "      <td>-0.176092</td>\n",
              "      <td>0.257874</td>\n",
              "    </tr>\n",
              "    <tr>\n",
              "      <th>1</th>\n",
              "      <td>-2.454375</td>\n",
              "      <td>1.241212</td>\n",
              "      <td>-1.035727</td>\n",
              "      <td>-0.495760</td>\n",
              "      <td>-0.861841</td>\n",
              "      <td>0.631851</td>\n",
              "      <td>0.543352</td>\n",
              "      <td>-0.273318</td>\n",
              "      <td>1.327685</td>\n",
              "      <td>-0.120589</td>\n",
              "      <td>0.189476</td>\n",
              "      <td>-0.175444</td>\n",
              "      <td>0.249137</td>\n",
              "    </tr>\n",
              "    <tr>\n",
              "      <th>2</th>\n",
              "      <td>-2.721385</td>\n",
              "      <td>0.761065</td>\n",
              "      <td>-0.624315</td>\n",
              "      <td>0.163729</td>\n",
              "      <td>-1.121348</td>\n",
              "      <td>1.619867</td>\n",
              "      <td>3.012250</td>\n",
              "      <td>0.920779</td>\n",
              "      <td>-0.988593</td>\n",
              "      <td>0.371794</td>\n",
              "      <td>-0.420940</td>\n",
              "      <td>0.025841</td>\n",
              "      <td>-0.200032</td>\n",
              "    </tr>\n",
              "    <tr>\n",
              "      <th>3</th>\n",
              "      <td>-2.107694</td>\n",
              "      <td>1.139537</td>\n",
              "      <td>0.000734</td>\n",
              "      <td>1.317806</td>\n",
              "      <td>-0.780162</td>\n",
              "      <td>0.329801</td>\n",
              "      <td>0.764679</td>\n",
              "      <td>1.780967</td>\n",
              "      <td>-1.292741</td>\n",
              "      <td>-0.474841</td>\n",
              "      <td>-0.901423</td>\n",
              "      <td>-0.955689</td>\n",
              "      <td>-0.633042</td>\n",
              "    </tr>\n",
              "    <tr>\n",
              "      <th>4</th>\n",
              "      <td>-2.449243</td>\n",
              "      <td>1.336935</td>\n",
              "      <td>-1.011173</td>\n",
              "      <td>-0.559496</td>\n",
              "      <td>-0.846905</td>\n",
              "      <td>0.538298</td>\n",
              "      <td>0.534887</td>\n",
              "      <td>-0.278319</td>\n",
              "      <td>1.313267</td>\n",
              "      <td>-0.115427</td>\n",
              "      <td>0.194527</td>\n",
              "      <td>-0.178076</td>\n",
              "      <td>0.254072</td>\n",
              "    </tr>\n",
              "  </tbody>\n",
              "</table>\n",
              "</div>"
            ],
            "text/plain": [
              "       pca1      pca2      pca3  ...     pca11     pca12     pca13\n",
              "0 -2.441809  1.289841 -0.865162  ...  0.187358 -0.176092  0.257874\n",
              "1 -2.454375  1.241212 -1.035727  ...  0.189476 -0.175444  0.249137\n",
              "2 -2.721385  0.761065 -0.624315  ... -0.420940  0.025841 -0.200032\n",
              "3 -2.107694  1.139537  0.000734  ... -0.901423 -0.955689 -0.633042\n",
              "4 -2.449243  1.336935 -1.011173  ...  0.194527 -0.178076  0.254072\n",
              "\n",
              "[5 rows x 13 columns]"
            ]
          },
          "metadata": {
            "tags": []
          },
          "execution_count": 29
        }
      ]
    },
    {
      "cell_type": "markdown",
      "metadata": {
        "id": "f38Sz-J5C6Dq"
      },
      "source": [
        "# **Train Test and Cross Validation**"
      ]
    },
    {
      "cell_type": "code",
      "metadata": {
        "id": "fjpxrHpnC4tR"
      },
      "source": [
        "X_train, X_test, y_train, y_test = train_test_split(x, y,test_size=0.2,random_state=42)\n",
        "train_df, cv_df, y_train, y_cv = train_test_split(X_train, y_train, stratify=y_train, test_size=0.2)"
      ],
      "execution_count": 30,
      "outputs": []
    },
    {
      "cell_type": "code",
      "metadata": {
        "id": "LiFb3OxFCwiN",
        "colab": {
          "base_uri": "https://localhost:8080/",
          "height": 206
        },
        "outputId": "d22de3d5-7806-43fc-91dc-7662c18a5017"
      },
      "source": [
        "x.head()"
      ],
      "execution_count": 31,
      "outputs": [
        {
          "output_type": "execute_result",
          "data": {
            "text/html": [
              "<div>\n",
              "<style scoped>\n",
              "    .dataframe tbody tr th:only-of-type {\n",
              "        vertical-align: middle;\n",
              "    }\n",
              "\n",
              "    .dataframe tbody tr th {\n",
              "        vertical-align: top;\n",
              "    }\n",
              "\n",
              "    .dataframe thead th {\n",
              "        text-align: right;\n",
              "    }\n",
              "</style>\n",
              "<table border=\"1\" class=\"dataframe\">\n",
              "  <thead>\n",
              "    <tr style=\"text-align: right;\">\n",
              "      <th></th>\n",
              "      <th>pca1</th>\n",
              "      <th>pca2</th>\n",
              "      <th>pca3</th>\n",
              "      <th>pca4</th>\n",
              "      <th>pca5</th>\n",
              "      <th>pca6</th>\n",
              "      <th>pca7</th>\n",
              "      <th>pca8</th>\n",
              "      <th>pca9</th>\n",
              "      <th>pca10</th>\n",
              "      <th>pca11</th>\n",
              "      <th>pca12</th>\n",
              "      <th>pca13</th>\n",
              "    </tr>\n",
              "  </thead>\n",
              "  <tbody>\n",
              "    <tr>\n",
              "      <th>0</th>\n",
              "      <td>-2.441809</td>\n",
              "      <td>1.289841</td>\n",
              "      <td>-0.865162</td>\n",
              "      <td>-0.286480</td>\n",
              "      <td>-0.865904</td>\n",
              "      <td>0.677715</td>\n",
              "      <td>0.551218</td>\n",
              "      <td>-0.287169</td>\n",
              "      <td>1.319631</td>\n",
              "      <td>-0.134415</td>\n",
              "      <td>0.187358</td>\n",
              "      <td>-0.176092</td>\n",
              "      <td>0.257874</td>\n",
              "    </tr>\n",
              "    <tr>\n",
              "      <th>1</th>\n",
              "      <td>-2.454375</td>\n",
              "      <td>1.241212</td>\n",
              "      <td>-1.035727</td>\n",
              "      <td>-0.495760</td>\n",
              "      <td>-0.861841</td>\n",
              "      <td>0.631851</td>\n",
              "      <td>0.543352</td>\n",
              "      <td>-0.273318</td>\n",
              "      <td>1.327685</td>\n",
              "      <td>-0.120589</td>\n",
              "      <td>0.189476</td>\n",
              "      <td>-0.175444</td>\n",
              "      <td>0.249137</td>\n",
              "    </tr>\n",
              "    <tr>\n",
              "      <th>2</th>\n",
              "      <td>-2.721385</td>\n",
              "      <td>0.761065</td>\n",
              "      <td>-0.624315</td>\n",
              "      <td>0.163729</td>\n",
              "      <td>-1.121348</td>\n",
              "      <td>1.619867</td>\n",
              "      <td>3.012250</td>\n",
              "      <td>0.920779</td>\n",
              "      <td>-0.988593</td>\n",
              "      <td>0.371794</td>\n",
              "      <td>-0.420940</td>\n",
              "      <td>0.025841</td>\n",
              "      <td>-0.200032</td>\n",
              "    </tr>\n",
              "    <tr>\n",
              "      <th>3</th>\n",
              "      <td>-2.107694</td>\n",
              "      <td>1.139537</td>\n",
              "      <td>0.000734</td>\n",
              "      <td>1.317806</td>\n",
              "      <td>-0.780162</td>\n",
              "      <td>0.329801</td>\n",
              "      <td>0.764679</td>\n",
              "      <td>1.780967</td>\n",
              "      <td>-1.292741</td>\n",
              "      <td>-0.474841</td>\n",
              "      <td>-0.901423</td>\n",
              "      <td>-0.955689</td>\n",
              "      <td>-0.633042</td>\n",
              "    </tr>\n",
              "    <tr>\n",
              "      <th>4</th>\n",
              "      <td>-2.449243</td>\n",
              "      <td>1.336935</td>\n",
              "      <td>-1.011173</td>\n",
              "      <td>-0.559496</td>\n",
              "      <td>-0.846905</td>\n",
              "      <td>0.538298</td>\n",
              "      <td>0.534887</td>\n",
              "      <td>-0.278319</td>\n",
              "      <td>1.313267</td>\n",
              "      <td>-0.115427</td>\n",
              "      <td>0.194527</td>\n",
              "      <td>-0.178076</td>\n",
              "      <td>0.254072</td>\n",
              "    </tr>\n",
              "  </tbody>\n",
              "</table>\n",
              "</div>"
            ],
            "text/plain": [
              "       pca1      pca2      pca3  ...     pca11     pca12     pca13\n",
              "0 -2.441809  1.289841 -0.865162  ...  0.187358 -0.176092  0.257874\n",
              "1 -2.454375  1.241212 -1.035727  ...  0.189476 -0.175444  0.249137\n",
              "2 -2.721385  0.761065 -0.624315  ... -0.420940  0.025841 -0.200032\n",
              "3 -2.107694  1.139537  0.000734  ... -0.901423 -0.955689 -0.633042\n",
              "4 -2.449243  1.336935 -1.011173  ...  0.194527 -0.178076  0.254072\n",
              "\n",
              "[5 rows x 13 columns]"
            ]
          },
          "metadata": {
            "tags": []
          },
          "execution_count": 31
        }
      ]
    },
    {
      "cell_type": "markdown",
      "metadata": {
        "id": "SiDuqEe3V6p1"
      },
      "source": [
        "# **KNearest Neighbors With Hyperparameter Tuning**"
      ]
    },
    {
      "cell_type": "code",
      "metadata": {
        "id": "wvzK2WV1P0Oi",
        "colab": {
          "base_uri": "https://localhost:8080/",
          "height": 650
        },
        "outputId": "e28318ee-6033-4bf4-c910-16642a7bb549"
      },
      "source": [
        "alpha = [5, 11, 15, 21, 31, 41, 51, 99]\n",
        "cv_log_error_array = []\n",
        "for i in alpha:\n",
        "    print(\"for alpha =\", i)\n",
        "    clf = KNeighborsClassifier(n_neighbors=i)\n",
        "    clf.fit(train_df,y_train)\n",
        "    sig_clf = CalibratedClassifierCV(clf, method=\"sigmoid\")\n",
        "    sig_clf.fit(train_df,y_train)\n",
        "    sig_clf_probs = sig_clf.predict_proba(cv_df)\n",
        "    cv_log_error_array.append(log_loss(y_cv, sig_clf_probs, labels=clf.classes_, eps=1e-15))\n",
        "    # to avoid rounding error while multiplying probabilites we use log-probability estimates\n",
        "    print(\"Log Loss :\",log_loss(y_cv, sig_clf_probs)) \n",
        "\n",
        "fig, ax = plt.subplots()\n",
        "ax.plot(alpha, cv_log_error_array,c='g')\n",
        "for i, txt in enumerate(np.round(cv_log_error_array,3)):\n",
        "    ax.annotate((alpha[i],str(txt)), (alpha[i],cv_log_error_array[i]))\n",
        "plt.grid()\n",
        "plt.title(\"Cross Validation Error for each alpha\")\n",
        "plt.xlabel(\"Alpha i's\")\n",
        "plt.ylabel(\"Error measure\")\n",
        "plt.show()\n",
        "\n",
        "\n",
        "best_alpha = np.argmin(cv_log_error_array)\n",
        "clf = KNeighborsClassifier(n_neighbors=alpha[best_alpha])\n",
        "clf.fit(train_df, y_train)\n",
        "sig_clf = CalibratedClassifierCV(clf, method=\"sigmoid\")\n",
        "sig_clf.fit(train_df,y_train)\n",
        "\n",
        "predict_y = sig_clf.predict_proba(train_df)\n",
        "print('For values of best alpha = ', alpha[best_alpha], \"The train log loss is:\",log_loss(y_train, predict_y, labels=clf.classes_, eps=1e-15))\n",
        "predict_y = sig_clf.predict_proba(cv_df)\n",
        "print('For values of best alpha = ', alpha[best_alpha], \"The cross validation log loss is:\",log_loss(y_cv, predict_y, labels=clf.classes_, eps=1e-15))\n",
        "predict_y = sig_clf.predict_proba(X_test)\n",
        "print('For values of best alpha = ', alpha[best_alpha], \"The test log loss is:\",log_loss(y_test, predict_y, labels=clf.classes_, eps=1e-15))"
      ],
      "execution_count": 32,
      "outputs": [
        {
          "output_type": "stream",
          "text": [
            "for alpha = 5\n",
            "Log Loss : 0.2929923182142312\n",
            "for alpha = 11\n",
            "Log Loss : 0.3247465574465982\n",
            "for alpha = 15\n",
            "Log Loss : 0.3441548653026802\n",
            "for alpha = 21\n",
            "Log Loss : 0.36803214904397524\n",
            "for alpha = 31\n",
            "Log Loss : 0.4000896230436541\n",
            "for alpha = 41\n",
            "Log Loss : 0.42440615510623675\n",
            "for alpha = 51\n",
            "Log Loss : 0.4437615775061319\n",
            "for alpha = 99\n",
            "Log Loss : 0.5029031867570815\n"
          ],
          "name": "stdout"
        },
        {
          "output_type": "display_data",
          "data": {
            "image/png": "[encoded data removed]",
            "text/plain": [
              "<Figure size 432x288 with 1 Axes>"
            ]
          },
          "metadata": {
            "tags": [],
            "needs_background": "light"
          }
        },
        {
          "output_type": "stream",
          "text": [
            "For values of best alpha =  5 The train log loss is: 0.20501310946838344\n",
            "For values of best alpha =  5 The cross validation log loss is: 0.2929923182142312\n",
            "For values of best alpha =  5 The test log loss is: 0.2959160221429567\n"
          ],
          "name": "stdout"
        }
      ]
    },
    {
      "cell_type": "markdown",
      "metadata": {
        "id": "ME0tfpHxVSWA"
      },
      "source": [
        "\n",
        "**Training and Testing the model with best hyper paramters -KNN**"
      ]
    },
    {
      "cell_type": "code",
      "metadata": {
        "id": "IF8MlUNeiMuZ"
      },
      "source": [
        "clf = KNeighborsClassifier(n_neighbors=alpha[best_alpha])\n",
        "clf.fit(train_df,y_train)\n",
        "sig_clf = CalibratedClassifierCV(clf, method=\"sigmoid\")\n",
        "sig_clf.fit(train_df,y_train)\n",
        "pred_y = sig_clf.predict(X_test)"
      ],
      "execution_count": 33,
      "outputs": []
    },
    {
      "cell_type": "code",
      "metadata": {
        "id": "GjoYM8SGP0TT",
        "colab": {
          "base_uri": "https://localhost:8080/"
        },
        "outputId": "0574dad1-f1b3-4e55-e364-751d425c2da1"
      },
      "source": [
        "accuracy_score(y_test, pred_y)"
      ],
      "execution_count": 34,
      "outputs": [
        {
          "output_type": "execute_result",
          "data": {
            "text/plain": [
              "0.8921112191595741"
            ]
          },
          "metadata": {
            "tags": []
          },
          "execution_count": 34
        }
      ]
    },
    {
      "cell_type": "code",
      "metadata": {
        "id": "P0LzwEr-D2sy",
        "colab": {
          "base_uri": "https://localhost:8080/"
        },
        "outputId": "96f32a9c-507f-4032-f864-3228e21afb2a"
      },
      "source": [
        "cf_matrix=confusion_matrix(y_test,pred_y)\n",
        "print(cf_matrix)"
      ],
      "execution_count": 35,
      "outputs": [
        {
          "output_type": "stream",
          "text": [
            "[[37744  4498     5     0    34    12   264]\n",
            " [ 3542 52218   239     1   238   231    31]\n",
            " [   13   384  6106    61    20   537     0]\n",
            " [    0     3   126   355     0    42     0]\n",
            " [   71   665    26     0  1222    11     0]\n",
            " [   17   350   654    28     3  2437     0]\n",
            " [  373    57     0     0     1     0  3584]]\n"
          ],
          "name": "stdout"
        }
      ]
    },
    {
      "cell_type": "code",
      "metadata": {
        "colab": {
          "base_uri": "https://localhost:8080/"
        },
        "id": "zHxOlR8SBoiL",
        "outputId": "1ee16db8-b5d6-4215-c1bc-79d8d270a8d6"
      },
      "source": [
        "print(classification_report(y_test,pred_y))"
      ],
      "execution_count": 36,
      "outputs": [
        {
          "output_type": "stream",
          "text": [
            "              precision    recall  f1-score   support\n",
            "\n",
            "           0       0.90      0.89      0.90     42557\n",
            "           1       0.90      0.92      0.91     56500\n",
            "           2       0.85      0.86      0.86      7121\n",
            "           3       0.80      0.67      0.73       526\n",
            "           4       0.81      0.61      0.70      1995\n",
            "           5       0.75      0.70      0.72      3489\n",
            "           6       0.92      0.89      0.91      4015\n",
            "\n",
            "    accuracy                           0.89    116203\n",
            "   macro avg       0.85      0.79      0.82    116203\n",
            "weighted avg       0.89      0.89      0.89    116203\n",
            "\n"
          ],
          "name": "stdout"
        }
      ]
    },
    {
      "cell_type": "code",
      "metadata": {
        "id": "F1zpllvi_9Ve",
        "colab": {
          "base_uri": "https://localhost:8080/",
          "height": 719
        },
        "outputId": "df98789d-c8b6-4788-e760-4708a91182f6"
      },
      "source": [
        "f, ax = plt.subplots(figsize=(16, 12))\n",
        "sns.heatmap(cf_matrix,annot=True)"
      ],
      "execution_count": 37,
      "outputs": [
        {
          "output_type": "execute_result",
          "data": {
            "text/plain": [
              "<matplotlib.axes._subplots.AxesSubplot at 0x7fee5cde8250>"
            ]
          },
          "metadata": {
            "tags": []
          },
          "execution_count": 37
        },
        {
          "output_type": "display_data",
          "data": {
            "image/png": "[encoded data removed]",
            "text/plain": [
              "<Figure size 1152x864 with 2 Axes>"
            ]
          },
          "metadata": {
            "tags": [],
            "needs_background": "light"
          }
        }
      ]
    },
    {
      "cell_type": "markdown",
      "metadata": {
        "id": "xJZuHohTjwA7"
      },
      "source": [
        "# **Support Vector Machine With Hyperparameter Tuning**"
      ]
    },
    {
      "cell_type": "code",
      "metadata": {
        "colab": {
          "base_uri": "https://localhost:8080/",
          "height": 501
        },
        "id": "KRuXM-pQHcIv",
        "outputId": "2b98f37e-898e-48e3-d5ab-ea8ddd7fdf5f"
      },
      "source": [
        "from sklearn.linear_model import SGDClassifier\n",
        "alpha = [1, 10, 100, 1000]\n",
        "cv_log_error_array = []\n",
        "for i in alpha:\n",
        "    print(\"for C =\", i)\n",
        "    clf = SGDClassifier( class_weight='balanced', alpha=i, penalty='l2', loss='hinge', random_state=42)\n",
        "    clf.fit(train_df,y_train)\n",
        "    sig_clf = CalibratedClassifierCV(clf, method=\"sigmoid\")\n",
        "    sig_clf.fit(train_df,y_train)\n",
        "    sig_clf_probs = sig_clf.predict_proba(cv_df)\n",
        "    cv_log_error_array.append(log_loss(y_cv, sig_clf_probs, labels=clf.classes_, eps=1e-15))\n",
        "    print(\"Log Loss :\",log_loss(y_cv, sig_clf_probs)) \n",
        "\n",
        "fig, ax = plt.subplots()\n",
        "ax.plot(alpha, cv_log_error_array,c='g')\n",
        "for i, txt in enumerate(np.round(cv_log_error_array,3)):\n",
        "    ax.annotate((alpha[i],str(txt)), (alpha[i],cv_log_error_array[i]))\n",
        "plt.grid()\n",
        "plt.title(\"Cross Validation Error for each alpha\")\n",
        "plt.xlabel(\"Alpha i's\")\n",
        "plt.ylabel(\"Error measure\")\n",
        "plt.show()\n",
        "\n",
        "\n",
        "best_alpha = np.argmin(cv_log_error_array)\n",
        "clf = SGDClassifier(class_weight='balanced', alpha=alpha[best_alpha], penalty='l2', loss='hinge', random_state=42)\n",
        "clf.fit(train_df, y_train)\n",
        "sig_clf = CalibratedClassifierCV(clf, method=\"sigmoid\")\n",
        "sig_clf.fit(train_df,y_train)\n",
        "\n",
        "predict_y = sig_clf.predict_proba(train_df)\n",
        "print('For values of best alpha = ', alpha[best_alpha], \"The train log loss is:\",log_loss(y_train, predict_y, labels=clf.classes_, eps=1e-15))\n",
        "predict_y = sig_clf.predict_proba(cv_df)\n",
        "print('For values of best alpha = ', alpha[best_alpha], \"The cross validation log loss is:\",log_loss(y_cv, predict_y, labels=clf.classes_, eps=1e-15))\n",
        "predict_y = sig_clf.predict_proba(X_test)\n",
        "print('For values of best alpha = ', alpha[best_alpha], \"The test log loss is:\",log_loss(y_test, predict_y, labels=clf.classes_, eps=1e-15))"
      ],
      "execution_count": 38,
      "outputs": [
        {
          "output_type": "stream",
          "text": [
            "for C = 1\n",
            "Log Loss : 0.8710775441574714\n",
            "for C = 10\n",
            "Log Loss : 0.8668758598485764\n",
            "for C = 100\n",
            "Log Loss : 0.8466951903544243\n",
            "for C = 1000\n",
            "Log Loss : 0.8466951856232053\n"
          ],
          "name": "stdout"
        },
        {
          "output_type": "display_data",
          "data": {
            "image/png": "[encoded data removed]",
            "text/plain": [
              "<Figure size 432x288 with 1 Axes>"
            ]
          },
          "metadata": {
            "tags": [],
            "needs_background": "light"
          }
        },
        {
          "output_type": "stream",
          "text": [
            "For values of best alpha =  1000 The train log loss is: 0.8467349933871567\n",
            "For values of best alpha =  1000 The cross validation log loss is: 0.8466951856232053\n",
            "For values of best alpha =  1000 The test log loss is: 0.8508401014175772\n"
          ],
          "name": "stdout"
        }
      ]
    },
    {
      "cell_type": "markdown",
      "metadata": {
        "id": "CVUxQZXpvz1W"
      },
      "source": [
        "**Training and testing the model with best hyperparameter - SVM**"
      ]
    },
    {
      "cell_type": "code",
      "metadata": {
        "id": "N8URu7q5HcLB"
      },
      "source": [
        "clf = SGDClassifier(class_weight='balanced', alpha=alpha[best_alpha], penalty='l2', loss='hinge', random_state=42)\n",
        "clf.fit(train_df,y_train)\n",
        "sig_clf = CalibratedClassifierCV(clf, method=\"sigmoid\")\n",
        "sig_clf.fit(train_df,y_train)\n",
        "pred_y = sig_clf.predict(X_test)"
      ],
      "execution_count": 39,
      "outputs": []
    },
    {
      "cell_type": "code",
      "metadata": {
        "colab": {
          "base_uri": "https://localhost:8080/"
        },
        "id": "VgHWFCuIHcOj",
        "outputId": "1b9fc5e5-e37b-4309-9921-9880ad7c7203"
      },
      "source": [
        "accuracy_score(y_test, pred_y)"
      ],
      "execution_count": 40,
      "outputs": [
        {
          "output_type": "execute_result",
          "data": {
            "text/plain": [
              "0.636351901413905"
            ]
          },
          "metadata": {
            "tags": []
          },
          "execution_count": 40
        }
      ]
    },
    {
      "cell_type": "code",
      "metadata": {
        "colab": {
          "base_uri": "https://localhost:8080/"
        },
        "id": "8uh69Z-MHm8z",
        "outputId": "be02958c-b5b2-4be0-86e9-a3c62b6e292a"
      },
      "source": [
        "cf_matrix=confusion_matrix(y_test,pred_y)\n",
        "print(cf_matrix)"
      ],
      "execution_count": 41,
      "outputs": [
        {
          "output_type": "stream",
          "text": [
            "[[19643 22676     0     0     0     0   238]\n",
            " [ 5994 49821   619     0     3     0    63]\n",
            " [    0  2893  4228     0     0     0     0]\n",
            " [    0    49   477     0     0     0     0]\n",
            " [  110  1885     0     0     0     0     0]\n",
            " [    0  1590  1898     1     0     0     0]\n",
            " [ 3236   525     0     0     0     0   254]]\n"
          ],
          "name": "stdout"
        }
      ]
    },
    {
      "cell_type": "code",
      "metadata": {
        "colab": {
          "base_uri": "https://localhost:8080/"
        },
        "id": "tdMzd2Q0BqhI",
        "outputId": "dc5b9ef8-a5f9-4e55-b31d-b46c23055bfb"
      },
      "source": [
        "print(classification_report(y_test,pred_y))"
      ],
      "execution_count": 42,
      "outputs": [
        {
          "output_type": "stream",
          "text": [
            "              precision    recall  f1-score   support\n",
            "\n",
            "           0       0.68      0.46      0.55     42557\n",
            "           1       0.63      0.88      0.73     56500\n",
            "           2       0.59      0.59      0.59      7121\n",
            "           3       0.00      0.00      0.00       526\n",
            "           4       0.00      0.00      0.00      1995\n",
            "           5       0.00      0.00      0.00      3489\n",
            "           6       0.46      0.06      0.11      4015\n",
            "\n",
            "    accuracy                           0.64    116203\n",
            "   macro avg       0.34      0.29      0.28    116203\n",
            "weighted avg       0.60      0.64      0.60    116203\n",
            "\n"
          ],
          "name": "stdout"
        }
      ]
    },
    {
      "cell_type": "code",
      "metadata": {
        "colab": {
          "base_uri": "https://localhost:8080/",
          "height": 719
        },
        "id": "guWCIUtdHnHt",
        "outputId": "e3dc1ae6-bae7-4546-969b-8a8cb456d346"
      },
      "source": [
        "f, ax = plt.subplots(figsize=(16, 12))\n",
        "sns.heatmap(cf_matrix,annot=True)"
      ],
      "execution_count": 43,
      "outputs": [
        {
          "output_type": "execute_result",
          "data": {
            "text/plain": [
              "<matplotlib.axes._subplots.AxesSubplot at 0x7fee5cc665d0>"
            ]
          },
          "metadata": {
            "tags": []
          },
          "execution_count": 43
        },
        {
          "output_type": "display_data",
          "data": {
            "image/png": "[encoded data removed]",
            "text/plain": [
              "<Figure size 1152x864 with 2 Axes>"
            ]
          },
          "metadata": {
            "tags": [],
            "needs_background": "light"
          }
        }
      ]
    }
  ]
}